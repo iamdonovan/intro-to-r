{
 "cells": [
  {
   "cell_type": "markdown",
   "id": "0667b166-1345-43f0-a514-0c4e79cdb3f7",
   "metadata": {},
   "source": [
    "# transforming data\n",
    "\n",
    "In this lesson, we're going to learn how we can work with datasets - combining tables, creating and re-arranging variables, selecting and sorting rows, and grouping and summarizing data. Mostly, we will be using functions from the `dplyr` package, which is designed for data manipulation (again, read this as \"analyzing\" or \"working with\", not \"fabricating\"!).\n",
    "\n",
    "## data\n",
    "\n",
    "The data used in this exercise are the historic meteorological observations from the [Armagh Observatory](https://www.metoffice.gov.uk/weather/learn-about/how-forecasts-are-made/observations/recording-observations-for-over-100-years) (1853-present), the Oxford Observatory (1853-present), the Southampton Observatory (1855-2000), and Stornoway Airport (1873-present), downloaded from the [UK Met Office](https://www.metoffice.gov.uk/research/climate/maps-and-data/historic-station-data).\n",
    "\n",
    "Like with the Armagh dataset we used previously, I have done the following to make the data slightly easier to work with:\n",
    "- Removed the header on lines 1-5\n",
    "- Replaced multiple spaces with a single space, and replaced single spaces with a comma (`,`)\n",
    "- Removed `---` to indicate no data, leaving these fields blank\n",
    "- Removed `*` indicating provisional/estimated values\n",
    "- Removed the 2023 data\n",
    "- Renamed the file (e.g., `oxforddata.txt` -> `oxforddata.csv`).\n",
    "\n",
    "If you wish to use your own data (and there are loads of stations available!), please feel free. For the best experience, you will likely need to repeat the steps indicated above.\n",
    "\n",
    "\n",
    "## loading libraries\n",
    "\n",
    "As before, we load the libraries that we will use in the exercise at the beginning. We will be using three libraries:\n",
    "- [readr](https://readr.tidyverse.org/), for reading the data from a file;\n",
    "- [ggplot2](https://ggplot2.tidyverse.org/), for plotting the data;\n",
    "- and [dplyr](https://dplyr.tidyverse.org/), for transforming/manipulating the data."
   ]
  },
  {
   "cell_type": "code",
   "execution_count": null,
   "id": "1baecf8a-0ab1-4963-a048-d1621a46df83",
   "metadata": {},
   "outputs": [],
   "source": [
    "library(readr) # this loads the functions we'll use to load the data\n",
    "library(ggplot2) # this loads the functions, etc. needed for us to plot\n",
    "library(dplyr) # this loads the functions, etc. needed for us to work with the data"
   ]
  },
  {
   "cell_type": "markdown",
   "id": "4ec028ed-06cb-4d7f-84d9-36505292698f",
   "metadata": {},
   "source": [
    "## loading the data\n",
    "\n",
    "In this exercise, we're going to see a number of different ways that we can work with data tables. Before we get to this, however, we need to load the individual data files and combine them into a single data table.\n",
    "\n",
    "Rather than loading all four at once and then combining them, however, we can simplify this slightly using a **for** loop. First, we'll load the Armagh Observatory data, because it's currently in a different folder.\n",
    "\n",
    "Rather than typing the path to the file directly, we can use `file.path()` ([documentation](https://rdrr.io/r/base/file.path.html)) to construct a path in a *platform-independent* way. In general, we want to do this because Windows uses `\\` to separate folders, while Unix-style systems such as Linux and MacOS use `/` - this way, we don't run into issues if we share our code with people working on different systems.\n",
    "\n",
    "To construct the filename, we're using a [*relative* path](https://en.wikipedia.org/wiki/Path_(computing)#Absolute_and_relative_paths) - that is, it is *relative* to some given working directory (typically the current working directory). To get to **armaghdata.csv** from the current directory, we have to go up a directory level (`..`), before entering the **03.plotting** directory, and the **data** directory after that:"
   ]
  },
  {
   "cell_type": "code",
   "execution_count": null,
   "id": "0520f840-9919-48b1-b062-4c35b8529b08",
   "metadata": {},
   "outputs": [],
   "source": [
    "station_data <- read_csv(file.path('..', '03.plotting', 'data', 'armaghdata.csv')) # use file.path to construct a path to the data file"
   ]
  },
  {
   "cell_type": "markdown",
   "id": "c9ba831f-7675-4df0-a3fd-77673b7a2d1f",
   "metadata": {},
   "source": [
    "Next, we want to make sure that we can keep track of which observation comes from which station - so, we should add a `station` variable to the table, and make sure to specify that these observations all come from the Armagh Observatory:"
   ]
  },
  {
   "cell_type": "code",
   "execution_count": null,
   "id": "f12a3211-d87a-446c-bdd7-84e360791fc0",
   "metadata": {},
   "outputs": [],
   "source": [
    "station_data$station <- 'armagh' # add the station name as a column"
   ]
  },
  {
   "cell_type": "markdown",
   "id": "3ed0fc61-55a2-4f16-95f5-ced7e6f29080",
   "metadata": {},
   "source": [
    "Now, we can set up a loop to load the other 3 stations data. First, we can create a **vector** of station names:"
   ]
  },
  {
   "cell_type": "code",
   "execution_count": null,
   "id": "4ce1c373-3842-445e-92af-92ffa228ac55",
   "metadata": {},
   "outputs": [],
   "source": [
    "# create a vector of station names\n",
    "new_stations <- c('oxford', 'southampton', 'stornoway')"
   ]
  },
  {
   "cell_type": "markdown",
   "id": "4a02892a-48d7-47d7-8922-a8f8ba934feb",
   "metadata": {},
   "source": [
    "Now that we have the vector of station names, we can construct the **for** loop to first read each file:\n",
    "\n",
    "```R\n",
    "    fn_data <- file.path('data', paste(station, 'data.csv', sep=\"\")\n",
    "\n",
    "```\n",
    "\n",
    "Here, we first use `paste()` to combine the `station` variable (which takes on a value from the `new_stations` **vector** on each pass through the loop) with `'data.csv'`, using a separator (`sep`) value of `\"\"` so that the resulting file names will be `'oxforddata.csv'`, `'southamptondata.csv'`, and `'stornowaydata.csv'`. We then use `file.path()` to combine this with the `'data'` directory name, so that the value of `fn_data` is the complete relative path to each file.\n",
    "\n",
    "Next, we use `read_csv()` to read in the file, and add a `station` variable to the table, just like we did with the Armagh data. \n",
    "\n",
    "Finally, we use `bind_rows()` ([documentation](https://dplyr.tidyverse.org/reference/bind_rows.html)) to combine the existing table, `station_data`, with the newly loaded table (`data`), and overwrite the value of `station_data` with this combined table:\n",
    "\n",
    "```R\n",
    "    station_data <- bind_rows(station_data, data)\n",
    "\n",
    "```\n",
    "\n",
    "Each time through the **for** loop, the value of `station` is updated:"
   ]
  },
  {
   "cell_type": "code",
   "execution_count": null,
   "id": "4df3cdb9-9dbe-44a9-9a07-114c8cdab135",
   "metadata": {},
   "outputs": [],
   "source": [
    "for (station in new_stations) {\n",
    "    fn_data <- file.path('data', paste(station, 'data.csv', sep=\"\")) # create the filename for each csv file, using file.path and paste\n",
    "    data <- read_csv(fn_data) # read the csv\n",
    "    data$station <- station # add the station to the table\n",
    "\n",
    "    station_data <- bind_rows(station_data, data) # combine the new data with the current data table\n",
    "}\n",
    "\n",
    "print(station_data) # show the data"
   ]
  },
  {
   "cell_type": "markdown",
   "id": "ff3408f5-9121-4c6a-a87b-3039fe783067",
   "metadata": {},
   "source": [
    "Note that this is one advantage of using clear, consistent naming and formatting for data files - we can easily write a loop to load multiple files, instead of having to write individual paths.\n",
    "\n",
    "## using filter() to select rows\n",
    "\n",
    "Now that we have a single table, we can also look at ways that we can select rows from the table. We have alread seen an example of this - for example, we could select all observations where the monthly maximum temperature (`tmax`) is greater than 20°C:"
   ]
  },
  {
   "cell_type": "code",
   "execution_count": null,
   "id": "50f42579-2d26-489d-91c5-75bab83038f4",
   "metadata": {
    "scrolled": true
   },
   "outputs": [],
   "source": [
    "station_data[station_data$tmax > 20, ]"
   ]
  },
  {
   "cell_type": "markdown",
   "id": "d319e231-ddb6-4ded-b01e-3ec45ef1c4a1",
   "metadata": {},
   "source": [
    "However, there's a small problem with this. In the example above, you can see that there are a number of rows where the values are all `NA` - this is because of how **R** handles NA values with the *extraction operators* (`[]`). Rows where `tmax` is missing (the value is `NA`) also show up, because a comparison operator with `NA` returns `NA`, **not** `TRUE`/`FALSE`:"
   ]
  },
  {
   "cell_type": "code",
   "execution_count": null,
   "id": "802f5d79-da83-44dc-b188-ec5e23e1483a",
   "metadata": {},
   "outputs": [],
   "source": [
    "station_data$tmax > 20"
   ]
  },
  {
   "cell_type": "markdown",
   "id": "e1988670-a20d-4876-a8f9-46c14b6120bf",
   "metadata": {},
   "source": [
    "When we then use this **vector** to *index* the **tibble**, the corresponding rows are filled with `NA` values due to something called *vector recycling* (see [here](https://homerhanumat.github.io/r-notes/vector-recycling.html) for more information if you're interested).\n",
    "\n",
    "We could write a combined conditional expression to select the correct rows:"
   ]
  },
  {
   "cell_type": "code",
   "execution_count": null,
   "id": "df5fd681-877f-4d40-bcae-e96afe4dd420",
   "metadata": {},
   "outputs": [],
   "source": [
    "(station_data$tmax > 20) & (!is.na(station_data$tmax))"
   ]
  },
  {
   "cell_type": "markdown",
   "id": "43eba4e4-051f-42a4-a4eb-0b210937568b",
   "metadata": {},
   "source": [
    "Here, the conditional is `TRUE` only when `tmax > 20` **and** `tmax` is not `NA`. However, there is an easier, clearer way, using `dplyr::filter()` ([documentation](https://dplyr.tidyverse.org/reference/filter.html)):"
   ]
  },
  {
   "cell_type": "code",
   "execution_count": null,
   "id": "1490b9b1-6a43-4409-b10d-a94065affad2",
   "metadata": {
    "scrolled": true
   },
   "outputs": [],
   "source": [
    "station_data |> filter(tmax > 20) # use filter to select rows where tmax > 20"
   ]
  },
  {
   "cell_type": "markdown",
   "id": "f20cc26f-5871-46cf-af62-daa62cfbb359",
   "metadata": {},
   "source": [
    "Here, we're using an operator we haven't seen before: the `|>` (\"pipe\") operator.\n",
    "\n",
    "In brief, `|>` tells **R** to take the output of the thing on the left, and pass it to the function call on the right. Thinking about this mathematically, `x |> f(y)` is equivalent to `f(x, y)`. We can also use this to combine multiple function calls - so, `x |> f(y) |> g(z)` is equivalent to `g(f(x, y), z)`, and so on.\n",
    "\n",
    "So, this:"
   ]
  },
  {
   "cell_type": "code",
   "execution_count": null,
   "id": "fb613d37-3445-4de3-b210-0ef912efcde1",
   "metadata": {},
   "outputs": [],
   "source": [
    "station_data |> filter(tmax > 20) # use filter to select rows where tmax > 20"
   ]
  },
  {
   "cell_type": "markdown",
   "id": "c3a18263-f69a-4b12-b998-df2b45b1c010",
   "metadata": {},
   "source": [
    "Is the same as this:"
   ]
  },
  {
   "cell_type": "code",
   "execution_count": null,
   "id": "d241c35a-bae2-4625-ae70-7ea7f3cc9760",
   "metadata": {},
   "outputs": [],
   "source": [
    "filter(station_data, tmax > 20) # use filter to select rows where tmax > 20"
   ]
  },
  {
   "cell_type": "markdown",
   "id": "ea6a67ab-e484-43af-aa16-1bfdc32983fe",
   "metadata": {},
   "source": [
    "With only one function call, the difference may not seem like much - as we will see, the real power comes when we are combining many function calls together.\n",
    "\n",
    "We can also use `filter()` with combined conditionals - for example, to select all monthly observations where `tmax` is greater than 20°C and `rain` is greater than 100 mm:"
   ]
  },
  {
   "cell_type": "code",
   "execution_count": null,
   "id": "f3074ac4-e7f1-494d-aae2-9815871eeadb",
   "metadata": {},
   "outputs": [],
   "source": [
    "station_data |> filter(tmax > 20 & rain > 100) # use filter to select rows where tmax > 20 and rain > 100"
   ]
  },
  {
   "cell_type": "markdown",
   "id": "5722e7a2-0d75-45ec-85f6-6ca69d7e4b28",
   "metadata": {},
   "source": [
    "## using arrange() to sort rows\n",
    "\n",
    "Sometimes, we might want to sort our data according to the value of different variables. For example, we can sort the observations by rainfall, from smallest to largest values:"
   ]
  },
  {
   "cell_type": "code",
   "execution_count": null,
   "id": "f8c2ae96-341e-49a5-9876-50e11160ffac",
   "metadata": {},
   "outputs": [],
   "source": [
    "station_data |> arrange(rain) # sort by rainfall, from smallest to largest values"
   ]
  },
  {
   "cell_type": "markdown",
   "id": "b0dc5732-ed77-48c6-a174-fba8813164cc",
   "metadata": {},
   "source": [
    "By default, the values are sorted in *ascending* order (from smallest to largest, or from A to Z for characters). If we want to see the reverse, we can use `desc()` ([documentation](https://dplyr.tidyverse.org/reference/desc.html)):"
   ]
  },
  {
   "cell_type": "code",
   "execution_count": null,
   "id": "af706566-9c7c-41b5-9446-c25a92b69827",
   "metadata": {},
   "outputs": [],
   "source": [
    "station_data |> arrange(desc(rain)) # sort by rainfall, from largest to smallest values"
   ]
  },
  {
   "cell_type": "markdown",
   "id": "a43581df-4328-413f-89f5-19a890afd8a0",
   "metadata": {},
   "source": [
    "We can also combine different variables to sort by - for example, sorting by `tmax` and `rainfall`:"
   ]
  },
  {
   "cell_type": "code",
   "execution_count": null,
   "id": "d032cf1f-ea89-41eb-80b9-f5b768407991",
   "metadata": {},
   "outputs": [],
   "source": [
    "station_data |> arrange(tmax, desc(rain)) # sort by tmax in ascending order, then rainfall in descending order"
   ]
  },
  {
   "cell_type": "markdown",
   "id": "476deb65-51fe-4c52-8a3f-857dfd48eeff",
   "metadata": {},
   "source": [
    "## using distinct() to find unique rows\n",
    "\n",
    "To find unique rows in the dataset, we can use `distinct()` ([documentation](https://dplyr.tidyverse.org/reference/distinct.html)). By itself, `distinct()` uses all of the variables to determine whether rows are distinct; most of the time, we likely want to use it to find unique values of a given variable:"
   ]
  },
  {
   "cell_type": "code",
   "execution_count": null,
   "id": "897eda86-a5b4-487c-937b-b906f7780bae",
   "metadata": {},
   "outputs": [],
   "source": [
    "station_data |> distinct(station) # find distinct values of station names"
   ]
  },
  {
   "cell_type": "markdown",
   "id": "12fb2d61-4881-4dca-a246-adb5718bd7e0",
   "metadata": {},
   "source": [
    "We can also use it to find combinations of variables:"
   ]
  },
  {
   "cell_type": "code",
   "execution_count": null,
   "id": "d7bb8668-0542-4a09-8c8c-a74937f04011",
   "metadata": {},
   "outputs": [],
   "source": [
    "station_data |> distinct(station, mm) # find distinct pairs of station and month values"
   ]
  },
  {
   "cell_type": "markdown",
   "id": "5c7d6017-a561-416e-97c3-ba60be0b4854",
   "metadata": {},
   "source": [
    "We can also use the `.keep_all` argument to keep the other columns while filtering for unique rows:"
   ]
  },
  {
   "cell_type": "code",
   "execution_count": null,
   "id": "34ddcd10-0819-4575-9c0c-953203f3ac56",
   "metadata": {},
   "outputs": [],
   "source": [
    "station_data |> distinct(station, mm, .keep_all = TRUE) # keep all columns while finding distinct pairs of station and season values"
   ]
  },
  {
   "cell_type": "markdown",
   "id": "70c2a60b-b76d-4e23-852d-d47f62dae1c4",
   "metadata": {},
   "source": [
    "Note that the distinct values found above are all from the first year of each dataset - this is because `distinct()` discards all but the first occurrence of a unique row.\n",
    "\n",
    "## counting occurrences with count()\n",
    "\n",
    "If we want to count the number times a particular value occurs in the table, we can use `count()` ([documentation](https://dplyr.tidyverse.org/reference/count.html)). We can also use this in combination with other functions - for example, we can count the number of times each station observed rainfall greater than 150 mm in a month by first using `filter()` to select all rows where `rain` is greater than 150, then use `count()` to count the number of unique occurrences of `station` in the resulting table:"
   ]
  },
  {
   "cell_type": "code",
   "execution_count": null,
   "id": "ce741dc6-2bfa-457f-816d-0c166b9ac246",
   "metadata": {},
   "outputs": [],
   "source": [
    "station_data |> filter(rain > 150) |> count(station, sort = TRUE) # select all rows where rain > 150, then count the number of occurrence of station, sorted in descending order"
   ]
  },
  {
   "cell_type": "markdown",
   "id": "566ca3a6-2687-43b3-98c5-abd8f34a2171",
   "metadata": {},
   "source": [
    "From this, we can quickly see that Stornoway Airport, located in the Outer Hebrides, has far more months with heavy rainfall (278) than any other station in our dataset; by contrast, Oxford has only recorded 12 such months between 1853 and 2022.\n",
    "\n",
    "## adding variables to the table using mutate()\n",
    "\n",
    "In a previous exercise, we saw how we can use **R**'s built-in functionality to add variables to a data frame:\n",
    "\n",
    "```R\n",
    "    armagh$date <- as.Date(paste(armagh$yyyy, armagh$mm, \"1\", sep=\"/\"), format=\"%Y/%m/%d\")\n",
    "\n",
    "```\n",
    "\n",
    "We can also use `mutate()` ([documentation](https://dplyr.tidyverse.org/reference/mutate.html)). This is more flexible than the built-in functionality, because it also allows us to add more than one new variable, and it allows us to specify where to put the new variables(s) using the `.before` or `.after` arguments. For example, to place the new `date` variable on the left-hand side of the column, we can use `.before = 1`:"
   ]
  },
  {
   "cell_type": "code",
   "execution_count": null,
   "id": "30857cd2-6861-4808-84fb-8dd30da486b0",
   "metadata": {
    "scrolled": true
   },
   "outputs": [],
   "source": [
    "station_data |> mutate(date = as.Date(paste(yyyy, mm, \"1\", sep = \"/\"), format = \"%Y/%m/%d\"), .before = 1) # use mutate to add a date variable, before the other variables"
   ]
  },
  {
   "cell_type": "markdown",
   "id": "8e606b4b-4db2-4866-9fcc-6493329cc62e",
   "metadata": {},
   "source": [
    "Note that we haven't assigned the output, so `station_data` is unchanged, and the new variable is only printed. We may want to overwrite our existing data by assigning the output to the same **object**, or we may want to create a new **object** with the output. Ultimately, the choice depends on what we're planning to do.\n",
    "\n",
    "We can also use `mutate()` to add multiple variables to the table - for example, adding the `season` and `date` variables as we saw previously:"
   ]
  },
  {
   "cell_type": "code",
   "execution_count": null,
   "id": "a129520d-4086-4d70-b296-817cc8fd4545",
   "metadata": {},
   "outputs": [],
   "source": [
    "station_data <- station_data |> mutate(\n",
    "    season = case_when(\n",
    "        mm %in% c(1, 2, 12) ~ 'winter', # if month is 1, 2, or 12, set it to winter\n",
    "        mm %in% 3:5 ~ 'spring', # if month is 3, 4, 5, set it to spring\n",
    "        mm %in% 6:8 ~ 'summer', # if month is 6, 7, 8, set it to summer\n",
    "        mm %in% 9:11 ~ 'autumn', # if month is 9, 10, 11, set it to autumn\n",
    "    ), \n",
    "    date = as.Date(paste(yyyy, mm, \"1\", sep=\"/\"), format=\"%Y/%m/%d\") # add a date variable\n",
    ")\n",
    "\n",
    "print(station_data)"
   ]
  },
  {
   "cell_type": "markdown",
   "id": "ec9e6edd-592e-41a8-b7c7-2333c2bb471b",
   "metadata": {},
   "source": [
    "By default, `mutate()` adds variables to the right hand side of the table; in addition to specifying where to put them using `.before` and `.after`, we will also see how we can re-arrange the variables in the table later on.\n",
    "\n",
    "## using select() to select columns\n",
    "\n",
    "Sometimes, we might want to select a single variable, or a handful of variables from a table - we can do this using `select()` ([documentation](https://dplyr.tidyverse.org/reference/select.html)):"
   ]
  },
  {
   "cell_type": "code",
   "execution_count": null,
   "id": "564851de-1bb6-4072-a85b-0534421cac57",
   "metadata": {
    "scrolled": true
   },
   "outputs": [],
   "source": [
    "station_data |> select(date, tmax, station) # select only the date, tmax, and station variables"
   ]
  },
  {
   "cell_type": "markdown",
   "id": "dde9d189-9889-4ac5-8b36-6304b1e3a2ee",
   "metadata": {},
   "source": [
    "We can also select a subset using a range of columns:"
   ]
  },
  {
   "cell_type": "code",
   "execution_count": null,
   "id": "437ef8f8-03df-4367-a93e-c0f15f669773",
   "metadata": {
    "scrolled": true
   },
   "outputs": [],
   "source": [
    "station_data |> select(tmax:sun) # select columns between tmax and sun (inclusive)"
   ]
  },
  {
   "cell_type": "markdown",
   "id": "b604a3f7-ab94-4e6a-bda6-13ea4b1b6f01",
   "metadata": {},
   "source": [
    "and we can also select a subset by specifying which columns not to use:"
   ]
  },
  {
   "cell_type": "code",
   "execution_count": null,
   "id": "6d1f2a0a-015c-4030-876e-53a25a574810",
   "metadata": {
    "scrolled": true
   },
   "outputs": [],
   "source": [
    "station_data |> select(!tmax:sun) # select columns except those between tmax and sun (inclusive)"
   ]
  },
  {
   "cell_type": "markdown",
   "id": "4def5fbc-8e7e-4b1a-8463-358f52a59f98",
   "metadata": {},
   "source": [
    "And, we can also select columns by their type using `where()` ([documentation](https://tidyselect.r-lib.org/reference/where.html)). For example, to select only variables that are **numeric**, we can use the `is.numeric()` function ([documentation](https://rdrr.io/r/base/numeric.html)):"
   ]
  },
  {
   "cell_type": "code",
   "execution_count": null,
   "id": "ca1e1de5-5bed-466f-a778-c3d7999314fd",
   "metadata": {
    "scrolled": true
   },
   "outputs": [],
   "source": [
    "station_data |> select(where(is.numeric)) # select only numeric variables"
   ]
  },
  {
   "cell_type": "markdown",
   "id": "975505f8-d437-4010-a12d-2ec41eb6b55b",
   "metadata": {},
   "source": [
    "## using rename() to rename columns\n",
    "\n",
    "Often, we may also want to rename variables to make them easier to read/understand. For example, the `yyyy`, `mm`, and `af` variables in our table are not necessarily the easiest to understand. We can rename them to more clear names, such as `year`, `month`, and `air_frost`, using the `rename()` function ([documentation](https://dplyr.tidyverse.org/reference/rename.html)):"
   ]
  },
  {
   "cell_type": "code",
   "execution_count": null,
   "id": "7e64bafe-505e-41fb-929c-d8c29f2a6b25",
   "metadata": {},
   "outputs": [],
   "source": [
    "station_data <- station_data |> rename(year = yyyy, month = mm, air_frost = af) # rename yyyy to year, mm to month, and af to air_frost\n",
    "\n",
    "print(station_data)"
   ]
  },
  {
   "cell_type": "markdown",
   "id": "0f002ec6-0531-4ad6-ad9e-8a3ca0c3eeb2",
   "metadata": {},
   "source": [
    "## using relocate() to move columns\n",
    "\n",
    "With `mutate()`, we saw how we can specify where to put new variables, using the `.before` and `.after` arguments. If we aren't creating new variables, we can still re-arrange variables using `relocate()` ([documentation](https://dplyr.tidyverse.org/reference/relocate.html)), which works in much the same way. We can specify which column to move a variable `.before` or `.after`; like with `select()`, we can also move a range or selection of columns at once. In the cell below, we're going to first move `date` so that it is the first column (before `year`); then, we move `season` so that it comes after `month`:"
   ]
  },
  {
   "cell_type": "code",
   "execution_count": null,
   "id": "dd6316c8-6a66-4596-a66e-6c789990c0fd",
   "metadata": {},
   "outputs": [],
   "source": [
    "station_data |> \n",
    "    relocate(date, .before = year) |>  # move date to before year\n",
    "    relocate(season, .after = month) -> # move season to be after month\n",
    "station_data # use the -> assignment operator to assign the output to station_data\n",
    "\n",
    "print(station_data)"
   ]
  },
  {
   "cell_type": "markdown",
   "id": "1cfa674b-067e-4bfb-a4d5-dd738509b969",
   "metadata": {},
   "source": [
    "In the cell above, note that we have used `->` (the **right-hand assignment operator**) to assign the ouput of the second `relocate()` function to the object `station_data`. Unlike the expression operator we have used so far (`<-`, the **left-hand assignment operator**), `->` assigns the value of the expression on the left side of the operator, and assigns it to the object on the *right-hand* side. \n",
    "\n",
    "Normally, we tend to use `<-`, but sometimes, especially with long \"sentences\" with multiple function calls, it can make sense to use `->` at the end, rather than the beginning - the end result will be the same.\n",
    "\n",
    "## saving data to a file\n",
    "\n",
    "Finally, let's save our cleaned, re-arranged dataset to a file, using `write_csv()` ([documentation](https://readr.tidyverse.org/reference/write_delim.html)). In the simplest case, `write_csv()` takes two arguments: first, the data table to be written to disk, and second, the filename to write the data to. We'll save our file to the `'data'` folder, with a filename of **combined_stations.csv**:"
   ]
  },
  {
   "cell_type": "code",
   "execution_count": null,
   "id": "fd677056-9848-4658-8796-49798471fb87",
   "metadata": {},
   "outputs": [],
   "source": [
    "write_csv(station_data, file.path('data', 'combined_stations.csv')) # write station_data to a file in the data folder"
   ]
  },
  {
   "cell_type": "markdown",
   "id": "b0d1db21-a321-4cc6-ac8d-0da18548229b",
   "metadata": {},
   "source": [
    "Now, we'll be able to load this file when we want to do further analysis, rather than needing to re-run the steps to load each file, combine the tables, create new variables, and so on. We're continuing to use a **comma-separated variable** (**.csv**) file format, though there are a number of different format options available - for more information, check the [documentation](https://readr.tidyverse.org/reference/write_delim.html).\n",
    "\n",
    "## grouping data\n",
    "\n",
    "Next, we'll see how we can use different tools to aggregate and summarize our data, starting with `group_by()` ([documentation](https://dplyr.tidyverse.org/reference/group_by.html)). To start, we'll group the data by `station`:"
   ]
  },
  {
   "cell_type": "code",
   "execution_count": null,
   "id": "05433648-cb21-4dc5-999c-732e9606aeeb",
   "metadata": {
    "scrolled": true
   },
   "outputs": [],
   "source": [
    "station_data |> group_by(station) # group the data by station"
   ]
  },
  {
   "cell_type": "markdown",
   "id": "be95b3b3-9dcd-4f5d-a472-429892ff689c",
   "metadata": {},
   "source": [
    "This looks largely the same as the previous output, with one important distinction: this is now a **grouped_df**, rather than a **spec_tbl_df** - this means that when we call the `summarize()` ([documentation](https://dplyr.tidyverse.org/reference/summarise.html)) function on the output, the summary is calculated based on each *group*, rather than all values of the variable. For example, if we want to calculate the mean of `tmax` for each station: "
   ]
  },
  {
   "cell_type": "code",
   "execution_count": null,
   "id": "08b547ff-f464-4c4b-a6ce-e34e2b430c23",
   "metadata": {},
   "outputs": [],
   "source": [
    "station_data |> \n",
    "    group_by(station) |> # group the data by station\n",
    "    summarize(\n",
    "        tmax = mean(tmax, na.rm = TRUE) # calculate the mean of tmax, ignoring NA values\n",
    "    )"
   ]
  },
  {
   "cell_type": "markdown",
   "id": "dc6776f0-f88e-49f3-af37-dd933cf04ea2",
   "metadata": {},
   "source": [
    "We can also group based on multiple variables - for example, by both `station` and `season`:"
   ]
  },
  {
   "cell_type": "code",
   "execution_count": null,
   "id": "c2c86a48-5a4f-4a75-abea-35cff301b14a",
   "metadata": {},
   "outputs": [],
   "source": [
    "station_data |> \n",
    "    group_by(station, season) |> # group the data by station, then season\n",
    "    summarize(\n",
    "        tmax = mean(tmax, na.rm = TRUE), # calculate the mean of tmax, ignoring NA values\n",
    "        rain = mean(rain, na.rm = TRUE)  # calculate the mean of rain, ignoring NA values\n",
    "    )"
   ]
  },
  {
   "cell_type": "markdown",
   "id": "b64cdeb8-09cf-4ba0-be20-f13ef6ceb87c",
   "metadata": {},
   "source": [
    "Now, let's combine this with what we learned in the previous lesson (the plotting exercise) to create a plot that shows the distribution of rainfall by season, separated by station.\n",
    "\n",
    "First, we want to create a plot that shows the density distribution of rainfall for each season, using `facet_wrap()` to create a single panel for each station:"
   ]
  },
  {
   "cell_type": "code",
   "execution_count": null,
   "id": "396ff50d-4dff-483f-9b33-c70b4451a231",
   "metadata": {},
   "outputs": [],
   "source": [
    "ggplot(data=station_data, mapping=aes(x=rain)) + # create a plot with tmax on the x-axis, colored by season\n",
    "    geom_density(mapping=aes(color=season, fill=season), alpha=0.4, linewidth=1) + # add a density plot with transparency of 0.4 and lines of width 1\n",
    "    facet_wrap(~station) -> # create one panel for each station\n",
    "rain_plot # assign the plot to a variable\n",
    "\n",
    "rain_plot"
   ]
  },
  {
   "cell_type": "markdown",
   "id": "c191dc72-db29-474c-9da8-f0a163336a75",
   "metadata": {},
   "source": [
    "Next, we can use `group_by()` and `summarize()` to calculate the mean rainfall for each station, and assign this to a new object, `mean_values`:"
   ]
  },
  {
   "cell_type": "code",
   "execution_count": null,
   "id": "210efea1-f59e-4b69-a0a4-4cd13b66b384",
   "metadata": {},
   "outputs": [],
   "source": [
    "mean_values <- station_data |> \n",
    "    group_by(station) |> # group by station value\n",
    "    summarize(rain = mean(rain, na.rm = TRUE)) # calculate the mean of rain, ignoring NA values"
   ]
  },
  {
   "cell_type": "markdown",
   "id": "b2633317-0377-41e2-b1b7-a42f090a5702",
   "metadata": {},
   "source": [
    "Now, to add a vertical line to our plot, we use `geom_vline()` ([documentation](https://ggplot2.tidyverse.org/reference/geom_abline.html)), along with `mean_values`, to place a vertical line in each panel where the mean rainfall value is:"
   ]
  },
  {
   "cell_type": "code",
   "execution_count": null,
   "id": "9b67212e-0707-4f7e-8dd8-fd62c6275849",
   "metadata": {},
   "outputs": [],
   "source": [
    "rain_plot <- rain_plot + \n",
    "    geom_vline(data = mean_values, mapping = aes(xintercept = rain), linewidth = 1, linetype = 'dashed') # add dashed vertical lines at the mean rainfall value\n",
    "\n",
    "rain_plot"
   ]
  },
  {
   "cell_type": "markdown",
   "id": "2aa458d7-9f32-4448-9134-f5167fabf73f",
   "metadata": {},
   "source": [
    "In the next panel, write some lines of code to change the axes labels and increase the font size for the tick labels, axis labels, and panel labels."
   ]
  },
  {
   "cell_type": "code",
   "execution_count": null,
   "id": "8da2c427-bb23-40d9-9a61-e193e6dd1810",
   "metadata": {},
   "outputs": [],
   "source": [
    "# your code goes here!"
   ]
  },
  {
   "cell_type": "markdown",
   "id": "8d430f92-de24-4966-84b5-cf95de6c9f1d",
   "metadata": {},
   "source": [
    "Now that you have finished the plot, be sure to save it to a file:"
   ]
  },
  {
   "cell_type": "code",
   "execution_count": null,
   "id": "02a46034-a7e1-4d9c-958e-4cb745cd9434",
   "metadata": {},
   "outputs": [],
   "source": [
    "ggsave('seasonal_rain_distribution.png', plot=rain_plot) # save the plot to a file"
   ]
  },
  {
   "cell_type": "markdown",
   "id": "0067e49c-ddcb-462d-8974-7f4b6c4d5c21",
   "metadata": {},
   "source": [
    "## slicing the dataset\n",
    "\n",
    "We'll finish up by looking at a few functions that we can use to *slice* a dataset - that is, extract specific rows from a group. For example, we can combine `group_by()` and `slice_max()` ([documentation](https://dplyr.tidyverse.org/reference/slice.html)) to find the maximum monthly temperature from each season:"
   ]
  },
  {
   "cell_type": "code",
   "execution_count": null,
   "id": "9a8f2af1-4dc7-4383-a6c7-b54d6916be2f",
   "metadata": {},
   "outputs": [],
   "source": [
    "station_data |> \n",
    "    group_by(season) |>\n",
    "    slice_max(tmax, n=1) # take the top n rows based on the value of tmax"
   ]
  },
  {
   "cell_type": "markdown",
   "id": "438873db-a9fb-47f5-8d30-fdb9afd83764",
   "metadata": {},
   "source": [
    "This lets us quickly see the observations corresponding to the highest temperature in each season - split between Southampton for autumn and spring, and Oxford for summer and winter. If we want to select the minimum, we can use `slice_min()`:"
   ]
  },
  {
   "cell_type": "code",
   "execution_count": null,
   "id": "575ff32f-7ea3-4d06-8834-d9502546cb85",
   "metadata": {},
   "outputs": [],
   "source": [
    "station_data |> \n",
    "    group_by(season) |>\n",
    "    slice_min(tmax, n=1) # take the bottom n rows based on the value of tmax"
   ]
  },
  {
   "cell_type": "markdown",
   "id": "41699a4f-5482-4f9c-9ee5-2d2ade249f92",
   "metadata": {},
   "source": [
    "Here, you can also see that by default, `slice_min()` (and `slice_max()`) keep tied values - so we end up with 6 rows instead of 4. If we want to discard ties, we can use the `.with_ties` argument set to `FALSE`.\n",
    "\n",
    "If we only want the first or last row from a group, regardless of the value, we can use `slice_head()` to select the first n rows, and `slice_tail()` to select the last n rows:"
   ]
  },
  {
   "cell_type": "code",
   "execution_count": null,
   "id": "8a1a55d5-f2c1-4bc0-b809-20e090214fef",
   "metadata": {},
   "outputs": [],
   "source": [
    "station_data |> \n",
    "    group_by(season) |>\n",
    "    slice_head(n=1) # take the first n rows"
   ]
  },
  {
   "cell_type": "markdown",
   "id": "7ab51c7a-ec45-4d54-9c0e-3a22489b5d8d",
   "metadata": {},
   "source": [
    "Finally, we can select a random sample from each group using `slice_sample()`:"
   ]
  },
  {
   "cell_type": "code",
   "execution_count": null,
   "id": "ab763bd7-21d5-45fb-afda-a3155f0154f5",
   "metadata": {},
   "outputs": [],
   "source": [
    "station_data |> \n",
    "    group_by(season) |>\n",
    "    slice_sample(n=5) # take a random sample of 5 rows from each season"
   ]
  },
  {
   "cell_type": "markdown",
   "id": "a87de1e8-f104-43b7-9bd9-fe7ffd6e18a9",
   "metadata": {},
   "source": [
    "## using ungroup() to remove groups\n",
    "\n",
    "Sometimes, we want to group data using `group_by()` to do some kind of calculations, but then we want to get rid of the groups - for example, if we want to find the top 5 warmest average months, regardless of what station they are measured at. \n",
    "\n",
    "To do this, we can use `ungroup()` ([documentation](https://dplyr.tidyverse.org/reference/group_by.html)) to remove the grouping:"
   ]
  },
  {
   "cell_type": "code",
   "execution_count": null,
   "id": "c761546f-91d1-4ea0-a2f4-3d39cf951453",
   "metadata": {},
   "outputs": [],
   "source": [
    "station_data |>\n",
    "    group_by(station, month) |> # group by station, season\n",
    "    summarize(tmax = mean(tmax, na.rm = TRUE)) |> # calculate the average of tmax\n",
    "    ungroup() |> # use ungroup to remove the grouping by station and season on the output of summarize\n",
    "    slice_max(tmax, n = 5) # select the 5 rows with the highest value of tmax"
   ]
  },
  {
   "cell_type": "markdown",
   "id": "17e261d3-867f-460d-bac6-2171df609787",
   "metadata": {},
   "source": [
    "Note that without this, we would end up with 20 rows - 5 for each group:"
   ]
  },
  {
   "cell_type": "code",
   "execution_count": null,
   "id": "8f2746a8-4ae4-4bb9-9d0e-1d2b0e442bba",
   "metadata": {},
   "outputs": [],
   "source": [
    "station_data |>\n",
    "    group_by(station, month) |> # group by station, season\n",
    "    summarize(tmax = mean(tmax, na.rm = TRUE)) |> # calculate the average of tmax\n",
    "    slice_max(tmax, n = 5) # select the 5 rows with the highest value of tmax"
   ]
  },
  {
   "cell_type": "markdown",
   "id": "5c4a866c-44e6-48fb-9262-3d3943ced5fb",
   "metadata": {},
   "source": [
    "## exercise and next steps\n",
    "\n",
    "That's all for this exercise. To practice your skills, create a notebook file that does the following:\n",
    "\n",
    "- loads the libraries that you need\n",
    "- loads the saved data file (**combined_stations.csv**)\n",
    "- helps you answer the following questions:\n",
    "    - what station has the highest recorded rainfall in the past 20 years, and on what date?\n",
    "    - what season has the lowest average rainfall? is it the same season for all four stations?\n",
    "    - what station has recorded the most months with `tmin` < 1°C? are all these observations from a single season?\n",
    "    - what is the median rainfall in months where `tmax` is greater than 20°C? make sure that your result is a number, not a tibble!\n",
    "    - what year saw the most total rainfall, using data from all four stations?\n",
    "    - what are the top 5 driest years, using only data from stations in Britain?\n",
    "    - what is the lowest annually-averaged monthly minimum temperature in the dataset, as measured by a single station?\n",
    "    - what is the sunniest month, on average, in Armagh?\n",
    "        - bonus: write a line that will rename the months from the number to a 3-letter abbreviation ([hint](https://r-lang.com/month-abb-in-r-with-example/))\n",
    "\n",
    "For a bonus, try downloading at least one additional dataset from the [Met Office](https://www.metoffice.gov.uk/research/climate/maps-and-data/historic-station-data), saving it to the **data** folder. Next, open a **Terminal** and enter the following:\n",
    "\n",
    "```\n",
    "    python convert_metoffice.py data/{station}\n",
    "\n",
    "```\n",
    "\n",
    "remembering to replace `{station}` with the name of the file that you just downloaded (e.g., `durhamdata.txt`). This will convert the `.txt` file into a `.csv` file, using the steps outlined at the top of the exercise. \n",
    "\n",
    "In your new notebook file, remember to add this new data to your existing dataset (and re-save the file!), then repeat the analyis questions above."
   ]
  }
 ],
 "metadata": {
  "kernelspec": {
   "display_name": "R",
   "language": "R",
   "name": "ir"
  },
  "language_info": {
   "codemirror_mode": "r",
   "file_extension": ".r",
   "mimetype": "text/x-r-source",
   "name": "R",
   "pygments_lexer": "r",
   "version": "4.1.3"
  }
 },
 "nbformat": 4,
 "nbformat_minor": 5
}
