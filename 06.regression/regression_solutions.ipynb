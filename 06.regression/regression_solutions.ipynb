{
 "cells": [
  {
   "cell_type": "markdown",
   "id": "e6b77b17-c111-4586-99ab-75a50ae155be",
   "metadata": {},
   "source": [
    "## load the packages and data we need"
   ]
  },
  {
   "cell_type": "code",
   "execution_count": null,
   "id": "010ed14b-b0ee-41c9-9d6a-3326530ff183",
   "metadata": {},
   "outputs": [],
   "source": [
    "library('tidyverse')\n",
    "\n",
    "# load the combined station data\n",
    "station_data <- read_csv(file.path('data', 'combined_stations.csv'))"
   ]
  },
  {
   "cell_type": "markdown",
   "id": "e1c178b6-efb2-419a-ad0c-8defb52550d1",
   "metadata": {},
   "source": [
    "## Investigate the relationship between `tmax` and `sun` overall, and by individual seasons, using `cor()`. What kind of relationship do these variables appear to have? Remember to use `drop_na()` to remove missing values!\n",
    "\n",
    "First, overall. Let's first make a scatter plot showing the values of `tmax` vs `sun`:"
   ]
  },
  {
   "cell_type": "code",
   "execution_count": null,
   "id": "fa99d473-7c25-4b60-a94f-da6f19390602",
   "metadata": {},
   "outputs": [],
   "source": [
    "ggplot(data=station_data, mapping=aes(x=sun, y=tmax)) + geom_point()"
   ]
  },
  {
   "cell_type": "markdown",
   "id": "594812e6-a1ab-4e7e-9bb0-6e759190e848",
   "metadata": {},
   "source": [
    "This looks like an overall positive relationship (and a fairly strong one at that). Now, we can use `summarize()` and `cor()` to calculate the different correlation values for these two variables, making sure to only include observations where we have values of both `tmax` and `sun` (**complete.obs**):"
   ]
  },
  {
   "cell_type": "code",
   "execution_count": null,
   "id": "3c2ef4c5-2941-4f1d-acd8-fc6d8cac8eb2",
   "metadata": {},
   "outputs": [],
   "source": [
    "station_data |> \n",
    "    summarize(\n",
    "        pearson = cor(sun, tmax, use='complete.obs'), # calculate pearson's r for sun and tmax\n",
    "        spearman = cor(sun, tmax, use='complete.obs', method='spearman'), # calculate spearman's rho for sun and tmax\n",
    "        kendall = cor(sun, tmax, use='complete.obs', method='kendall') # calculate kendall's tau for sun and tmax        \n",
    "    )\n"
   ]
  },
  {
   "cell_type": "markdown",
   "id": "4cd7ef07-b9b4-40cf-9d42-89f2b39c03fa",
   "metadata": {},
   "source": [
    "Now, let's group the data by season. First, a scatter plot colored by season:"
   ]
  },
  {
   "cell_type": "code",
   "execution_count": null,
   "id": "955c5c17-3b6a-4333-b5f9-40ab434b193a",
   "metadata": {},
   "outputs": [],
   "source": [
    "ggplot(data=station_data, mapping=aes(x=sun, y=tmax, color=season, shape=season)) + geom_point()"
   ]
  },
  {
   "cell_type": "markdown",
   "id": "b4595ee8-3fdc-4ce5-af9b-dfa96b32936d",
   "metadata": {},
   "source": [
    "From this, it looks like the relationship is not consistent across seasons - there's not a clear relationship for winter, and autumn appears to be stronger than spring and summmer. We can check this by using `summarize()` to calculate the different correlation values using the output of `group_by()`:"
   ]
  },
  {
   "cell_type": "code",
   "execution_count": null,
   "id": "4854b301-ef38-4b85-80b6-1c92ff8e93fb",
   "metadata": {},
   "outputs": [],
   "source": [
    "corr_table <- station_data |> \n",
    "    group_by(season) |> # group by season\n",
    "    summarize(\n",
    "        pearson = cor(sun, tmax, use='complete.obs'), # calculate pearson's r for sun and tmax\n",
    "        spearman = cor(sun, tmax, use='complete.obs', method='spearman'), # calculate spearman's rho for sun and tmax\n",
    "        kendall = cor(sun, tmax, use='complete.obs', method='kendall') # calculate kendall's tau for sun and tmax\n",
    "    )\n",
    "\n",
    "corr_table # show the table"
   ]
  },
  {
   "cell_type": "markdown",
   "id": "9013fb7c-cc1e-4afc-991a-93a56d4f86d8",
   "metadata": {},
   "source": [
    "## What is the relationship between `tmin` and `sun`? does it change by season?\n",
    "\n",
    "We can proceed here in the same way that we did previously, just using `tmin` instead of `tmax`:"
   ]
  },
  {
   "cell_type": "code",
   "execution_count": null,
   "id": "20a80b16-9c0b-48ba-b1e8-b7e32f105dc2",
   "metadata": {},
   "outputs": [],
   "source": [
    "ggplot(data=station_data, mapping=aes(x=sun, y=tmin)) + geom_point()"
   ]
  },
  {
   "cell_type": "markdown",
   "id": "749c57e5-f99a-46b0-bd67-ae91c26962e1",
   "metadata": {},
   "source": [
    "This still looks like a positive relationship, but less strong than the relationship for `tmax`. We can confirm this using `summarize()`:"
   ]
  },
  {
   "cell_type": "code",
   "execution_count": null,
   "id": "36061d91-fe63-487b-9065-54f3b9532051",
   "metadata": {},
   "outputs": [],
   "source": [
    "station_data |> \n",
    "    summarize(\n",
    "        pearson = cor(sun, tmin, use='complete.obs'), # calculate pearson's r for sun and tmin\n",
    "        spearman = cor(sun, tmin, use='complete.obs', method='spearman'), # calculate spearman's rho for sun and tmin\n",
    "        kendall = cor(sun, tmin, use='complete.obs', method='kendall') # calculate kendall's tau for sun and tmin        \n",
    "    )"
   ]
  },
  {
   "cell_type": "code",
   "execution_count": null,
   "id": "fc62fed4-b285-4dee-b73c-e22e795393d5",
   "metadata": {},
   "outputs": [],
   "source": [
    "ggplot(data=station_data, mapping=aes(x=sun, y=tmin, color=season, shape=season)) + geom_point()"
   ]
  },
  {
   "cell_type": "markdown",
   "id": "f924e744-bfb5-421b-96c0-dfe5ad1cbd44",
   "metadata": {},
   "source": [
    "Interestingly, it looks like the relationship is still strongest for autumn, but we also have a strong(er), negative relationship for winter. Again, we can calculate a table of correlation values to compare:"
   ]
  },
  {
   "cell_type": "code",
   "execution_count": null,
   "id": "310aa3ae-3638-4f7d-a5b3-93ba01b3b199",
   "metadata": {},
   "outputs": [],
   "source": [
    "corr_table <- station_data |> \n",
    "    group_by(season) |> # group by season\n",
    "    summarize(\n",
    "        pearson = cor(sun, tmin, use='complete.obs'), # calculate pearson's r for sun and tmin\n",
    "        spearman = cor(sun, tmin, use='complete.obs', method='spearman'), # calculate spearman's rho for sun and tmin\n",
    "        kendall = cor(sun, tmin, use='complete.obs', method='kendall') # calculate kendall's tau for sun and tmin        \n",
    "    )\n",
    "\n",
    "corr_table # show the table"
   ]
  },
  {
   "cell_type": "markdown",
   "id": "88656af1-822c-46c3-99c8-544de326a232",
   "metadata": {},
   "source": [
    "## Set up and fit a multiple linear regression model for `air_frost` as a function of `tmax`, `tmin`, `sun`, and `rain` in the winter. Which of these variables has the strongest effect on `air_frost`?\n",
    "\n",
    "First, we can use `filter()` to select only winter observations:"
   ]
  },
  {
   "cell_type": "code",
   "execution_count": null,
   "id": "af50a68f-9eb1-4471-b4fe-ddecdea7eb16",
   "metadata": {},
   "outputs": [],
   "source": [
    "winter_obs <- station_data |> filter(season == 'winter')"
   ]
  },
  {
   "cell_type": "markdown",
   "id": "846165e0-93db-448d-908b-dfec0e740edd",
   "metadata": {},
   "source": [
    "Now, we can use `lm()` to create a linear model, using the **formula** `air_frost ~ tmax + tmin + sun + rain`:"
   ]
  },
  {
   "cell_type": "code",
   "execution_count": null,
   "id": "a3c9686c-fbf8-4364-b194-0a25c1a3e133",
   "metadata": {},
   "outputs": [],
   "source": [
    "winter_mlm <- lm(air_frost ~ tmax + tmin + sun + rain, data=winter_obs)"
   ]
  },
  {
   "cell_type": "markdown",
   "id": "7c926ce7-72f8-45de-bf7b-e08cb441e72a",
   "metadata": {},
   "source": [
    "To see the estimate, standard error, *t*-value, and *p*-value for each coefficient, we can use `summary()`:"
   ]
  },
  {
   "cell_type": "code",
   "execution_count": null,
   "id": "1f00cb92-2920-4348-b76b-a8baab74299f",
   "metadata": {},
   "outputs": [],
   "source": [
    "summary(winter_mlm)"
   ]
  }
 ],
 "metadata": {
  "kernelspec": {
   "display_name": "R",
   "language": "R",
   "name": "ir"
  },
  "language_info": {
   "codemirror_mode": "r",
   "file_extension": ".r",
   "mimetype": "text/x-r-source",
   "name": "R",
   "pygments_lexer": "r",
   "version": "4.1.3"
  }
 },
 "nbformat": 4,
 "nbformat_minor": 5
}
