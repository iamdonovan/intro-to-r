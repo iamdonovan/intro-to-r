{
 "cells": [
  {
   "cell_type": "markdown",
   "id": "b14d6143-3cee-49f6-bf95-4970423376bd",
   "metadata": {},
   "source": [
    "# linear regression with **R**\n",
    "\n",
    "In this exercise, we'll see how we can use **R** for both simple and linear regression. We'll also see how we can calculate the correlation between two variables, and get some additional practice working with grouped data.\n",
    "\n",
    "## data\n",
    "\n",
    "The data used in this exercise are the historic meteorological observations from the [Armagh Observatory](https://www.metoffice.gov.uk/weather/learn-about/how-forecasts-are-made/observations/recording-observations-for-over-100-years) (1853-present), the Oxford Observatory (1853-present), the Southampton Observatory (1855-2000), and Stornoway Airport (1873-present), downloaded from the [UK Met Office](https://www.metoffice.gov.uk/research/climate/maps-and-data/historic-station-data) that we used in previous exercises.\n",
    "\n",
    "## getting started\n",
    "\n",
    "First, we'll use `library()` to load the `tidyverse` package:"
   ]
  },
  {
   "cell_type": "code",
   "execution_count": null,
   "id": "3a5cb06f-2075-4b34-8cbc-d39ff9432ffe",
   "metadata": {},
   "outputs": [],
   "source": [
    "library(tidyverse)"
   ]
  },
  {
   "cell_type": "markdown",
   "id": "37bd7d49-a953-42f1-962e-806c4b84aea7",
   "metadata": {},
   "source": [
    "next, we'll use `read_csv()` to load the combined station data:"
   ]
  },
  {
   "cell_type": "code",
   "execution_count": null,
   "id": "0a4bc99e-fae0-48d3-b36e-122ce66f376f",
   "metadata": {},
   "outputs": [],
   "source": [
    "station_data <- read_csv(file.path('data', 'combined_stations.csv'))"
   ]
  },
  {
   "cell_type": "markdown",
   "id": "b27efd83-a911-4516-8445-6cbe20d04c01",
   "metadata": {},
   "source": [
    "## plotting relationships\n",
    "\n",
    "Before jumping into correlation and regreesion, let's have a look at the data we're investigating. In the cell below, write some lines of code to create a scatter plot of `tmax` vs `rain`, with different colors and shapes for each season. Be sure to assign the plot to an object called `rain_tmax_plot`:"
   ]
  },
  {
   "cell_type": "code",
   "execution_count": null,
   "id": "139cbdda-0cd6-44a2-9127-297412b980a6",
   "metadata": {},
   "outputs": [],
   "source": [
    "# create a plot of tmax vs rain\n",
    "# make a scatter plot with different colors and shapes, based on the season\n",
    "rain_tmax_plot # show the plot"
   ]
  },
  {
   "cell_type": "markdown",
   "id": "d69a5271-e785-478f-a054-a406fbee459f",
   "metadata": {},
   "source": [
    "Now, use `geom_smooth()` to add a linear regression line to each group - you should end up with four lines, colored according to the season:"
   ]
  },
  {
   "cell_type": "code",
   "execution_count": null,
   "id": "24550d13-46e2-4da2-b73f-a966f954c375",
   "metadata": {},
   "outputs": [],
   "source": [
    "# now add a geom_smooth to plot regression lines for each season"
   ]
  },
  {
   "cell_type": "markdown",
   "id": "46c3e330-8292-4147-bcce-0902fae77a11",
   "metadata": {},
   "source": [
    "What kind of relationship is there between `tmax` and `rain`? Does it depend on the season? How strong is the relationship, and what does this mean for the slope of each regression line?\n",
    "\n",
    "## calculating correlation\n",
    "\n",
    "The next thing we'll look at is how to calculate the *correlation* between two variables, using `cor()` ([documentation](https://rdrr.io/r/stats/cor.html)). We'll start by calculating the covariance for all values of a variable, then use some of the tools we've seen previously to calculate the correlation based on different grouping variables.\n",
    "\n",
    "### for an entire dataset\n",
    "\n",
    "The basic use of `cor()` to calculate the correlation between two variables `x` and `y` is `cor(x, y)`. To calculate the correlation between `rain` and `tmax`, then, we can use the `$` operator to select the `rain` and `tmax` variables. The `use` argument tells **R** how to handle missing variables. In this case, we want to ignore observations where *either* `rain` or `tmax` is missing - in other words, we only want to use complete observations (`complete.obs`):"
   ]
  },
  {
   "cell_type": "code",
   "execution_count": null,
   "id": "c9eacd05-cbaa-417a-bb9b-8d296ec5ed7b",
   "metadata": {},
   "outputs": [],
   "source": [
    "cor(station_data$rain, station_data$tmax, use='complete.obs') # calculate pearson's r for rain and tmax"
   ]
  },
  {
   "cell_type": "markdown",
   "id": "35e82e48-ef90-449b-bbfc-1fa4a0332042",
   "metadata": {},
   "source": [
    "### by groups\n",
    "\n",
    "We're more interested in calculating the correlation for different groups - as you can see from the plots above, the relationship between `rain` and `tmax` is not the same in each season - even though the overall correlation is slightly negative, the correlation in winter is clearly positive.\n",
    "\n",
    "We've already seen all of the different parts we need here. To calculate the correlation based on `season`, we can use `group_by()` to group the dataset, then use `summarize()`, along with `cor()`, to calculate the desired correlation.\n",
    "\n",
    "By default, `cor()` calculates Pearson's correlation, but we can also calculate Spearman's rho and Kendall's tau coefficient:"
   ]
  },
  {
   "cell_type": "code",
   "execution_count": null,
   "id": "f705bbfe-7a05-432f-a9e2-cdcd8e16b0a3",
   "metadata": {},
   "outputs": [],
   "source": [
    "corr_table <- station_data |> \n",
    "    group_by(season) |> # group by season\n",
    "    summarize(\n",
    "        pearson = cor(rain, tmax, use='complete.obs'), # calculate pearson's r for rain and tmax\n",
    "        spearman = cor(rain, tmax, use='complete.obs', method='spearman'), # calculate spearman's rho for rain and tmax\n",
    "        kendall = cor(rain, tmax, use='complete.obs', method='kendall') # calculate kendall's tau for rain and tmax\n",
    "    )\n",
    "\n",
    "corr_table # show the table"
   ]
  },
  {
   "cell_type": "markdown",
   "id": "4dde720b-7f85-406f-9d2a-e728cf5e891f",
   "metadata": {},
   "source": [
    "## simple linear regression\n",
    "\n",
    "We'll start by fitting a linear model for spring. To prepare the data, write a line of code below that selects only the spring observations, and assigns the output to an object called `spring`:"
   ]
  },
  {
   "cell_type": "code",
   "execution_count": null,
   "id": "85cd8210-6497-4b6e-9c03-3e3e955c2e7c",
   "metadata": {},
   "outputs": [],
   "source": [
    "# select only spring observations"
   ]
  },
  {
   "cell_type": "markdown",
   "id": "555275d3-d911-4ff5-9e24-989012792333",
   "metadata": {},
   "source": [
    "To fit a linear model, we use the `lm()` function ([documentation](https://rdrr.io/r/stats/lm.html)). The first argument for `lm()` is a **formula** representing the model to be fit. Remember that a linear model with a single variable has the form:\n",
    "\n",
    "$$ y = \\beta + \\alpha x, $$\n",
    "\n",
    "where $\\beta$ is the intercept and $\\alpha$ is the slope of the line. In **R**, the **formula** for this model is `y ~ x` - remember that the *response* (*dependent*) variable is on the left side of the `~` operator, and the *explanatory* (*dependent*) variable(s) are on the right side of the operator. The coefficients $\\beta$ and $\\alpha$ are implied in the form of the model, though we can explicitly add an intercept (such as 0) to force the model to fit a specific value.\n",
    "\n",
    "So, the call to fit a linear relationship between `tmax` and `rain` would look like this:"
   ]
  },
  {
   "cell_type": "code",
   "execution_count": null,
   "id": "c4e45271-8b81-43f3-8e32-c9b6e0506410",
   "metadata": {},
   "outputs": [],
   "source": [
    "lm(tmax ~ rain, data=spring) # fit a linear model for tmax and rain, using spring data"
   ]
  },
  {
   "cell_type": "markdown",
   "id": "a3db3ab1-45b1-4be6-ab18-908b3b2e6a92",
   "metadata": {},
   "source": [
    "The basic output of the model shows us the intercept (14.13683), and the slope for `rain` (-0.02961). We can also use `summary()` to print more information, once we assign the output of `lm()` to an object:"
   ]
  },
  {
   "cell_type": "code",
   "execution_count": null,
   "id": "170c915f-b6ae-4e19-ac14-854e189f3716",
   "metadata": {},
   "outputs": [],
   "source": [
    "spring_lm <- lm(tmax ~ rain, data=spring) # fit a linear model for tmax and rain, using spring data\n",
    "\n",
    "summary(spring_lm) # show the summary of the fit"
   ]
  },
  {
   "cell_type": "markdown",
   "id": "ea426ea7-540f-4313-8fae-97912e63f770",
   "metadata": {},
   "source": [
    "The output of `summary()` shows quite a bit more information, including the distribution of the residuals to the fit, the standard error and *p*-value for the estimated coefficients, and the $R^2$ value.\n",
    "\n",
    "If we want to extract the coefficients from the summary, we can use the `coef()` ([documentation](https://rdrr.io/r/stats/coef.html)) built-in function on the output of `summary()`:"
   ]
  },
  {
   "cell_type": "code",
   "execution_count": null,
   "id": "403186cd-c649-4fa0-b58b-ba6f8bd3f0e3",
   "metadata": {},
   "outputs": [],
   "source": [
    "coef(summary(spring_lm)) # extract the coefficients from the model summary"
   ]
  },
  {
   "cell_type": "markdown",
   "id": "49da3ca0-e533-4844-93f3-7dc5db3f65a4",
   "metadata": {},
   "source": [
    "In this example, the output of `coef()` is a **matrix**, which is similar to a **data.frame**. If we want to access the elements of the **matrix**, we can use the **extraction operators** (`[` and `]`), along with the *row* and *column* name of element we want. For example, the following shows how to extract the estimate of the intercept from the **matrix**:"
   ]
  },
  {
   "cell_type": "code",
   "execution_count": null,
   "id": "898a8a40-c7d5-444b-8672-905889206104",
   "metadata": {},
   "outputs": [],
   "source": [
    "spring_lm_coefs <- coef(summary(spring_mlm))\n",
    "\n",
    "spring_lm_coefs[\"(Intercept)\", \"Estimate\"] # get the estimate of the intercept"
   ]
  },
  {
   "cell_type": "markdown",
   "id": "e6df4b13-5084-4efc-a475-49dd0b51b619",
   "metadata": {},
   "source": [
    "## multiple linear regression\n",
    "\n",
    "Now, let's try to fit a linear model of `tmax` with two variables: `rain` and `sun`. Remember that multiple linear regression tries to fit a model with the form:\n",
    "\n",
    "$$ y = \\beta + \\alpha_1 x_1 + \\cdots + \\alpha_n x_n $$\n",
    "\n",
    "With only two variables, this would look like:\n",
    "\n",
    "$$ y = \\beta + \\alpha_1 x_1 + \\alpha_2 x_2 $$\n",
    "\n",
    "And the corresponding **formula** in **R** looks like `y ~ x_1 + x_2` (or `tmax ~ rain + sun`, using our variable names):"
   ]
  },
  {
   "cell_type": "code",
   "execution_count": null,
   "id": "dd5756fa-2c7a-43e4-bc32-cd2f4470334f",
   "metadata": {},
   "outputs": [],
   "source": [
    "spring_mlm <- lm(tmax ~ rain + sun, data=spring) # fit a linear model for tmax and rain, using spring data\n",
    "\n",
    "summary(spring_mlm) # show the summary of the fit"
   ]
  },
  {
   "cell_type": "markdown",
   "id": "8e3215a1-5a40-49ef-ab3c-823b7dd86c93",
   "metadata": {},
   "source": [
    "And we can extract the coefficients from the summary in the same way as before:"
   ]
  },
  {
   "cell_type": "code",
   "execution_count": null,
   "id": "af9ef25d-20b5-4627-a28d-e6c92e93df1e",
   "metadata": {},
   "outputs": [],
   "source": [
    "spring_mlm_coefs <- coef(summary(spring_mlm))\n",
    "\n",
    "spring_mlm_coefs[\"rain\", \"Estimate\"] # get the slope of the rain variable"
   ]
  },
  {
   "cell_type": "markdown",
   "id": "44e41128-1d6e-488b-873d-df08444a8345",
   "metadata": {},
   "source": [
    "## bonus: linear regression with groups\n",
    "\n",
    "As a final exercise, let's see how we can combine some of the tools we've used in the workshop so far, along with a few new ones, to fit linear models for each season without having to explicitly assign each selection to an object.\n",
    "\n",
    "For this, we will use `nest_by()` ([documentation](https://dplyr.tidyverse.org/reference/nest_by.html)), rather than `group_by()` - the idea is the same (group the table based on different variables), but the output is different. Here, the ouptut is a table with two (or more) columns: one column, `data`, which is a *nested* table containing the data corresponding to the group, and additional columns corresponding to the grouping variable(s). \n",
    "\n",
    "Then, we can use `mutate()` create a column, `model`, that contains the output of `lm()` applied to the data in each group. Finally, we use `list()` ([documentation](https://rdrr.io/r/base/list.html)) to turn this output into a **list** so that it can be used in the table:"
   ]
  },
  {
   "cell_type": "code",
   "execution_count": null,
   "id": "e6221fd1-d584-4520-98d2-435d895f3fc8",
   "metadata": {},
   "outputs": [],
   "source": [
    "fits <- station_data |>\n",
    "    nest_by(season) |> # create a nested table, grouped by season\n",
    "    mutate(model = list(lm(tmax ~ rain, data = data))) # create a new variable, model, which is the output of the linear model\n",
    "\n",
    "names(fits) # show the names of the columns"
   ]
  },
  {
   "cell_type": "markdown",
   "id": "c0155d97-d6a2-4e6c-ba68-364eb74ff602",
   "metadata": {},
   "source": [
    "Now that we have this, we can use `pull()` ([documentation](https://dplyr.tidyverse.org/reference/pull.html)) to extract this column as a **list**:"
   ]
  },
  {
   "cell_type": "code",
   "execution_count": null,
   "id": "75093acc-6e10-4bbf-a362-fd9fa361d5ce",
   "metadata": {},
   "outputs": [],
   "source": [
    "models <- fits |> pull(model) # extract the model column into a separate list\n",
    "\n",
    "models # show the list"
   ]
  },
  {
   "cell_type": "markdown",
   "id": "f3980e2d-448a-4eef-b8e7-f60be0ea3fd8",
   "metadata": {
    "scrolled": true
   },
   "source": [
    "Note that each element of the **list** has a name that doesn't tell us any useful information (``[[1]]``, ``[[2]]``, etc.) - ideally, we would like to index the list using the name of each season. To do this, we can use `names()` ([documentation](https://rdrr.io/r/base/names.html)) to assign the name of each season to the corresponding **list** element:"
   ]
  },
  {
   "cell_type": "code",
   "execution_count": null,
   "id": "157a3f26-63fb-417d-a469-bd7bf977b6bf",
   "metadata": {},
   "outputs": [],
   "source": [
    "names(models) <- fits$season # assign the season name to each element of the list\n",
    "\n",
    "models # show the object"
   ]
  },
  {
   "cell_type": "markdown",
   "id": "aa07ef8a-de99-41f1-9918-c044402abb56",
   "metadata": {},
   "source": [
    "Now, we can access the linear model for each season using its name - for example, to get the linear model for autumn:"
   ]
  },
  {
   "cell_type": "code",
   "execution_count": null,
   "id": "c92637c5-a84e-4e4e-a9fa-a5364b753091",
   "metadata": {},
   "outputs": [],
   "source": [
    "models$autumn"
   ]
  },
  {
   "cell_type": "markdown",
   "id": "da760774-8c39-477b-81ee-a0a6077c8a51",
   "metadata": {},
   "source": [
    "And finally, we can use `map()` to apply the `summary()` function to each element of the **list**, and assign the output of this to a new object:"
   ]
  },
  {
   "cell_type": "code",
   "execution_count": null,
   "id": "a67bb472-fa07-43e7-90c7-0bc4fadd9100",
   "metadata": {},
   "outputs": [],
   "source": [
    "models |> \n",
    "    map(summary) -> # use map to get the summary of each element of the list\n",
    "    model_summary # assign the output to a new list object\n",
    "\n",
    "coef(model_summary$autumn) # get the coefficients of the autumn linear model"
   ]
  },
  {
   "cell_type": "markdown",
   "id": "d83813f6-7e91-4cd1-95f9-920054d0bbf8",
   "metadata": {},
   "source": [
    "## exercise and next steps\n",
    "\n",
    "That's all for this exercise, and for the exercises of this workshop. The next sessions are BYOD (\"bring your own data\") sessions where you can start building your **git** project repository by applying the different concepts and skills that we have covered in the workshop. Before then, if you would like to practice these skills further, try at least one of the following suggestions:\n",
    "\n",
    "- Investigate the relationship between `tmax` and `sun` overall, and by individual seasons, using `cor()`. What kind of relationship do these variables appear to have?\n",
    "- What is the relationship between `tmin` and `sun`? does it change by season?\n",
    "- Set up and fit a multiple linear regression model for `air_frost` as a function of `tmax`, `tmin`, `sun`, and `rain` in the winter. Which of these variables has the strongest effect on `air_frost`?"
   ]
  }
 ],
 "metadata": {
  "kernelspec": {
   "display_name": "R",
   "language": "R",
   "name": "ir"
  },
  "language_info": {
   "codemirror_mode": "r",
   "file_extension": ".r",
   "mimetype": "text/x-r-source",
   "name": "R",
   "pygments_lexer": "r",
   "version": "4.1.3"
  }
 },
 "nbformat": 4,
 "nbformat_minor": 5
}
