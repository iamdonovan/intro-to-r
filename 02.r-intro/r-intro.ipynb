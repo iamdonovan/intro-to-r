{
 "cells": [
  {
   "cell_type": "markdown",
   "id": "c5c72680-b167-48d4-b9be-9f56b329ea8b",
   "metadata": {
    "tags": []
   },
   "source": [
    "# introduction to R using jupyterlab\n",
    "\n",
    "## overview\n",
    "\n",
    "Programming is a powerful tool that allows us to do complicated calculations and analysis, visualize data, and automate workflows to ensure consistency, accuracy, and reproducibility in our research. \n",
    "\n",
    "In this exercise, you will get a basic introduction to the **R** programming language, including variables and objects, data types and data structures, and how to control the flow of our programs. Over the next few sessions, we will build on these ideas, using some real example data, to get more of an idea of how to use **R** in our research.\n",
    "\n",
    "This is an *interactive* notebook - in between bits of text, there are interactive cells which you can use to execute snippets of **R** code. To run these cells, highlight them by clicking on them, then press **CTRL** and **ENTER** (or **SHIFT** and **ENTER**, or by pressing the \"play\" button at the top of this tab).\n",
    "\n",
    "## objectives\n",
    "\n",
    "After finishing this exercise, you will:\n",
    "\n",
    "- learn and gain experience with some of the basic elements of **R** and programming\n",
    "\n",
    "## objects and assignment\n",
    "\n",
    "We'll start by creating a new **object**, `foo`, and *assigning* it a **value** of `\"hello, world!\"`:\n",
    "\n",
    "```R\n",
    "    foo <- \"hello, world!\" # assign an object using <-\n",
    "\n",
    "```\n",
    "\n",
    "In the text above (and the cell below), you should notice that the color of different parts of the text is different. We'll discuss different aspects of this as we go, but pay attention to the greenish text that comes after the `#` - this indicates a *comment*, meaning text that is intended for humans to read, but that is ignored by **R**. We'll discuss comments more when we start looking at writing scripts, but as you work through the exercises, make sure to read the comments - they're there to help you understand what each line of code actually does.\n",
    "\n",
    "After creating the `foo` **object**, we use the built-in `print()` function (more on these later) to see the *value* of that object. Go ahead and run the cell to get started:"
   ]
  },
  {
   "cell_type": "code",
   "execution_count": null,
   "id": "5c886a0d-1629-4d66-b283-eb79f9db779c",
   "metadata": {
    "tags": []
   },
   "outputs": [],
   "source": [
    "foo <- \"hello, world!\" # assign an object using <-\n",
    "print(foo) # print the object to the terminal"
   ]
  },
  {
   "cell_type": "markdown",
   "id": "8d36bd8d-1b4a-402c-a5fc-45b165d59387",
   "metadata": {},
   "source": [
    "You should notice that the cell has changed. First, the square brackets (`[ ]`) have a number inside of them (`[1]`), and you can also see the output below the cell:\n",
    "\n",
    "`[1] \"hello, world!\"`\n",
    "\n",
    "The `print()` function allows us to print messages and information to the screen. We'll see a number of other uses of it as we go, but you can also read more about it in the [documentation](https://www.rdocumentation.org/packages/base/versions/3.6.2/topics/print).\n",
    "\n",
    "One important thing to remember is that the *name* of an **object** is *case-sensitive* (meaning that `foo` is different from `Foo`):"
   ]
  },
  {
   "cell_type": "code",
   "execution_count": null,
   "id": "62741c46-d000-44c9-b0ac-f5c32f868d31",
   "metadata": {
    "tags": []
   },
   "outputs": [],
   "source": [
    "print(Foo) # this won't work, because we haven't created an object called Foo yet"
   ]
  },
  {
   "cell_type": "markdown",
   "id": "43186324-ef26-4d4b-90e1-05a44c0eb241",
   "metadata": {},
   "source": [
    "We'll see more examples of error messages later (and how to interpret them), but hopefully the message:\n",
    "\n",
    "`Error in print(Foo): object 'Foo' not found`\n",
    "\n",
    "is clear enough. Because we were expecting this error message, we can ignore it and move on.\n",
    "\n",
    "## data types\n",
    "\n",
    "So, we've created our first **object**, `foo`. But what kind of object is `foo`? To find out, we can use the `typeof()` function ([documentation](https://www.rdocumentation.org/packages/base/versions/3.6.2/topics/typeof)):"
   ]
  },
  {
   "cell_type": "code",
   "execution_count": null,
   "id": "d5316629-b18d-4d4d-8ad2-bd36816a97ab",
   "metadata": {
    "tags": []
   },
   "outputs": [],
   "source": [
    "typeof(foo) # use the typeof() function to find the type of an object"
   ]
  },
  {
   "cell_type": "markdown",
   "id": "c9686ecf-59be-4fff-94a7-5289e100cf04",
   "metadata": {},
   "source": [
    "So `foo` is an object of type **character**, meaning that it is *text*. \n",
    "\n",
    "In general, **R** has the following basic data types:\n",
    "\n",
    "- **character**, for text objects\n",
    "- **numeric**, for numbers. These can be divided into the following:\n",
    "    - **double**, for floating-point (real) values\n",
    "    - **integer**, for integer values\n",
    "- **logical**, for boolean (True/False) objects\n",
    "- **complex**, for complex numbers\n",
    "\n",
    "Let's look at an example of a **numeric** object:"
   ]
  },
  {
   "cell_type": "code",
   "execution_count": null,
   "id": "5d63711a-3172-4a28-93d5-8f4b27c6bbed",
   "metadata": {
    "tags": []
   },
   "outputs": [],
   "source": [
    "x <- 1 # assign a value of 1 to the object x\n",
    "typeof(x) # should be integer, right?"
   ]
  },
  {
   "cell_type": "markdown",
   "id": "58f3fcdd-e20b-44fb-ae15-f1ea5ebc580c",
   "metadata": {},
   "source": [
    "That's interesting - even though we assigned an integer value to `x`, **R** has created an object of type **double**. This is because by default, numeric values in **R** are type double. \n",
    "\n",
    "To create an object with an **integer** value, we append an `L` to each number (alternatively, we can *coerce* to the integer type using the `as.integer()` function):"
   ]
  },
  {
   "cell_type": "code",
   "execution_count": null,
   "id": "6bd537c6-f7ad-453d-9a63-1957dfa846db",
   "metadata": {
    "tags": []
   },
   "outputs": [],
   "source": [
    "x <- 1L\n",
    "typeof(x)"
   ]
  },
  {
   "cell_type": "markdown",
   "id": "fdc4fc08-32e3-4be0-ab64-20b21c99e338",
   "metadata": {
    "tags": []
   },
   "source": [
    "We'll come back to data types more as we work through the example exercises.\n",
    "\n",
    "## data structures\n",
    "\n",
    "Most of the time, we'll want to use groups of data, or *data structures*, rather than individual values. Just like with data types, **R** has a number of different data structures, ranging from one-dimensional to multi-dimensional structures.  \n",
    "\n",
    "### vectors\n",
    "\n",
    "A **vector** is the most basic data structure in **R** - it's a one-dimensional sequence of a single data type.\n",
    "\n",
    "To assign a vector explicitly, we can use the function `c()` (short for \"combine\"):"
   ]
  },
  {
   "cell_type": "code",
   "execution_count": null,
   "id": "e67bd4ef-76ae-43bc-8424-e11063e050be",
   "metadata": {
    "tags": []
   },
   "outputs": [],
   "source": [
    "campuses <- c('Belfast', 'Coleraine', 'Jordanstown', 'Magee')\n",
    "print(campuses)"
   ]
  },
  {
   "cell_type": "markdown",
   "id": "29a20565-ca25-440c-bae5-c9a7520e8839",
   "metadata": {},
   "source": [
    "### indexing\n",
    "\n",
    "To access the individual elements of a vector, we need to use the **index** of that element, along with square brackets (`[` and `]`). \n",
    "\n",
    "In the example above:\n",
    "\n",
    "```R\n",
    "campuses <- c('Belfast', 'Coleraine', 'Jordanstown', 'Magee')\n",
    "\n",
    "```\n",
    "\n",
    "In **R**, the index of a vector starts at 1. \"Coleraine\" is the second element in the `campuses` vector, which means that it has an index of 2. We can check this with the following cell:"
   ]
  },
  {
   "cell_type": "code",
   "execution_count": null,
   "id": "b325f199-526a-4fdf-9ac3-279c5dff6187",
   "metadata": {
    "tags": []
   },
   "outputs": [],
   "source": [
    "campuses[2] # return the second element from the 'campuses' vector"
   ]
  },
  {
   "cell_type": "markdown",
   "id": "c7fad637-c4b7-4092-8be8-370f0a401ccd",
   "metadata": {},
   "source": [
    "We can also use logical expressions or variables to select values from a **vector**:"
   ]
  },
  {
   "cell_type": "code",
   "execution_count": null,
   "id": "28575900-1329-4f15-807e-0fadaa84c200",
   "metadata": {},
   "outputs": [],
   "source": [
    "numbers <- 1:10 # create a sequence of numbers from 1 to 10\n",
    "\n",
    "numbers[numbers > 5] # select the values of numbers that are greater than 5"
   ]
  },
  {
   "cell_type": "markdown",
   "id": "e4e5f71f-b7a1-4763-adb6-f87a42f46040",
   "metadata": {},
   "source": [
    "### factors\n",
    "\n",
    "**factor**s are vectors for categorical variables, where we have a limited number of unique character strings. As an example,  "
   ]
  },
  {
   "cell_type": "code",
   "execution_count": null,
   "id": "807a5e75-299e-45a5-a3cb-18e1c086c640",
   "metadata": {},
   "outputs": [],
   "source": [
    "campus <- c(\"Belfast\", \"Coleraine\", \"Magee\", \"Magee\", \"Coleraine\", \"Coleraine\", \"Belfast\", \"Jordanstown\")# create a vector\n",
    "campus <- factor(campus) # turn it into a factor\n",
    "\n",
    "print(campus) # examine the output"
   ]
  },
  {
   "cell_type": "markdown",
   "id": "bb20ddcc-1c3b-4434-8c1b-283eda1f6c15",
   "metadata": {},
   "source": [
    "In the ouptut above, you can see that just like the **vector** example above, the output shows the contents of the factor (the list of campus names), but it also shows the **levels**: the unique categories of the variable. We can also specify the **levels** when creating the factor, which can help us order and sort the categories (for example, months); it can also help us identify data entry errors like typos (e.g., `Coelraine` instead of `Coleraine`):"
   ]
  },
  {
   "cell_type": "code",
   "execution_count": null,
   "id": "d303033c-79a9-4c1b-a00f-d1ab3cb1514d",
   "metadata": {},
   "outputs": [],
   "source": [
    "campus <- c(\"Belfast\", \"Coelraine\", \"Magee\", \"Magee\", \"Coleraine\", \"Coleraine\", \"Belfast\", \"Jordanstown\")# create a vector\n",
    "campus <- factor(campus, levels=campuses) # specify the levels\n",
    "\n",
    "print(campus)"
   ]
  },
  {
   "cell_type": "markdown",
   "id": "90a2ee49-c31f-4271-8337-d0524d2f5826",
   "metadata": {},
   "source": [
    "Note how the second entry in the **factor**, is now `NA` (for **Not Available**), because `Coelraine` is not in our list of campuses.\n",
    "\n",
    "### lists\n",
    "\n",
    "**factor** and **vector** objects don't allow for mixing types - we can't have a **vector** with both character and numeric values, but we can have a **vector** of character values and a **vector** of numeric values.\n",
    "\n",
    "If we want to mix data types, we can use a **list**:"
   ]
  },
  {
   "cell_type": "code",
   "execution_count": null,
   "id": "938f3fcc-2b05-4d35-b09e-8d11b8e53058",
   "metadata": {},
   "outputs": [],
   "source": [
    "a <- 1:5 # a sequence of numbers from 1 to 5\n",
    "b <- c('these', 'are', 'characters') # a vector of character strings\n",
    "d <- TRUE # a single boolean value\n",
    "\n",
    "mixed_bag <- list(item_1=a, item_b=b, item_iii=d) # join the different objects into a list. Note that we have to specify the names of the list variables\n",
    "\n",
    "print(mixed_bag)"
   ]
  },
  {
   "cell_type": "markdown",
   "id": "c5ab7892-438b-40cc-a5fd-ffe3cb3d9404",
   "metadata": {},
   "source": [
    "Like with **vector** objects, we can select values/objects from the **list** using the index:"
   ]
  },
  {
   "cell_type": "code",
   "execution_count": null,
   "id": "709011ae-c713-45f4-b6ab-1bb4f92c018e",
   "metadata": {},
   "outputs": [],
   "source": [
    "mixed_bag[2] # select the second item in the list"
   ]
  },
  {
   "cell_type": "markdown",
   "id": "a0d449c0-1867-42ac-b3d3-c5cdbffad60a",
   "metadata": {},
   "source": [
    "Note that the type of this selection is *also* a **list**:"
   ]
  },
  {
   "cell_type": "code",
   "execution_count": null,
   "id": "a409ece3-e48b-47bd-9d19-2a70bcf02147",
   "metadata": {},
   "outputs": [],
   "source": [
    "item2 <- mixed_bag[2] # select the second item in the list and assign to a new object\n",
    "typeof(item2) # get the type of the new object"
   ]
  },
  {
   "cell_type": "markdown",
   "id": "20abe9ed-735d-40c2-907b-ca3bde0d762a",
   "metadata": {},
   "source": [
    "In addition to using the **index**, we can select a single variable from the **list** using the `$` operator:"
   ]
  },
  {
   "cell_type": "code",
   "execution_count": null,
   "id": "dac6333e-9cad-4b8a-9ccc-f2a9ac3c9e84",
   "metadata": {},
   "outputs": [],
   "source": [
    "mixed_bag$item_b # select the item_b variable from the mixed_bag list"
   ]
  },
  {
   "cell_type": "markdown",
   "id": "da5a370a-918f-441c-aca5-8de917a6788e",
   "metadata": {},
   "source": [
    "When we select the variable this way, the resulting object is a **vector**, not a **list** - so the way that we select values from these data structures matters.\n",
    "\n",
    "### data frames\n",
    "\n",
    "While a **list** object allows us to mix and nest variables of different data types, it is one-dimensional - there is no association between the values of the different variables, because they can have different lengths.\n",
    "\n",
    "A **data frame** (or `data.frame`) is a two-dimensional object - like a spreadsheet table. Each variable in a **data.frame** is a **vector**, and each **vector** has the same length.\n",
    "\n",
    "Most often, this is how we will end up working with data sets - we load them from a file such as an Excel spreadsheet, CSV (comma-separated variable), or SPSS file into a **data.frame**, then work with the **data.frame** object. We can also create our own data frame using **vector** objects:"
   ]
  },
  {
   "cell_type": "code",
   "execution_count": null,
   "id": "6b1c3c3b-b102-4a32-83af-2ece10180ee2",
   "metadata": {},
   "outputs": [],
   "source": [
    "name <- c('Belfast', 'Derry', 'Bangor', 'Lisburn', 'Newry', 'Armagh') # a vector of city names\n",
    "population <- c(345418, 83163, 61011, 45370, 27913, 14777) # a vector of populations corresponding to each city name\n",
    "\n",
    "cities <- data.frame(name, population) # create a data frame from these vectors\n",
    "\n",
    "print(cities)"
   ]
  },
  {
   "cell_type": "markdown",
   "id": "7f9c6be6-d061-47e9-a72e-cfffdb9c557e",
   "metadata": {},
   "source": [
    "Like **vector** and **list** objects, there are a number of ways to select values from a **data.frame** - the next four examples show different ways of selecting by index. Have a look at each of them in turn - note that the resulting object changes depending on how we select them!"
   ]
  },
  {
   "cell_type": "code",
   "execution_count": null,
   "id": "dddb5d3f-7639-4858-a389-bd072bd46c73",
   "metadata": {},
   "outputs": [],
   "source": [
    "cities[1] # this gives us the first column, as a data.frame"
   ]
  },
  {
   "cell_type": "code",
   "execution_count": null,
   "id": "b06e224e-de35-481d-a023-8ac39bad7cba",
   "metadata": {},
   "outputs": [],
   "source": [
    "cities[, 1] # this also gives us the first column, but as a vector"
   ]
  },
  {
   "cell_type": "code",
   "execution_count": null,
   "id": "f55575ed-90b7-4cc8-92eb-3900036cc778",
   "metadata": {},
   "outputs": [],
   "source": [
    "cities[1, ] # this gives us the first row - note that this is also a data.frame!"
   ]
  },
  {
   "cell_type": "code",
   "execution_count": null,
   "id": "f9052568-bd8c-4ffb-b25e-d0ab4e7ec61b",
   "metadata": {},
   "outputs": [],
   "source": [
    "cities[1, 2] # this gives us the entry in the first row, second column"
   ]
  },
  {
   "cell_type": "markdown",
   "id": "403a4e03-c556-45d1-97e2-14958709c25e",
   "metadata": {},
   "source": [
    "We can also select variables in a **data.frame** by name, using the variable name as a **character**:"
   ]
  },
  {
   "cell_type": "code",
   "execution_count": null,
   "id": "d75b905c-f611-4b3b-8e98-0f842062ee62",
   "metadata": {},
   "outputs": [],
   "source": [
    "cities['name'] # returns the 'name' variable as a 6 x 1 data.frame"
   ]
  },
  {
   "cell_type": "markdown",
   "id": "36eea40b-9ebc-460e-9505-fbcee953c391",
   "metadata": {},
   "source": [
    "Using the `$` operator, on the other hand, returns a **vector**, not a **data.frame**:"
   ]
  },
  {
   "cell_type": "code",
   "execution_count": null,
   "id": "8e256626-6dfa-4dbb-b0c8-ec20e12b5c54",
   "metadata": {},
   "outputs": [],
   "source": [
    "cities$name # this is a vector with length 6"
   ]
  },
  {
   "cell_type": "markdown",
   "id": "2a2f2eb0-2ec8-4a3e-88ce-dbc620e4443f",
   "metadata": {},
   "source": [
    "Like we saw with **vector** objects, we can select subsets of the table using logical statements or variables - for example, by selecting all cities where the population is greater than 50,000:"
   ]
  },
  {
   "cell_type": "code",
   "execution_count": null,
   "id": "ac89fa30-9677-4424-953d-eec33f6dab50",
   "metadata": {},
   "outputs": [],
   "source": [
    "cities[cities$population > 50000,] # gives us all rows where the population variable is larger than 50000"
   ]
  },
  {
   "cell_type": "markdown",
   "id": "4db54a01-1ff2-4105-ad9b-b13b68019bac",
   "metadata": {},
   "source": [
    "To get the variable names for the **data.frame**, we use the `names()` ([documentation](https://www.rdocumentation.org/packages/base/versions/3.6.2/topics/names)) built-in function:"
   ]
  },
  {
   "cell_type": "code",
   "execution_count": null,
   "id": "dbde19d7-6c0e-45c0-9382-703739a0c81f",
   "metadata": {},
   "outputs": [],
   "source": [
    "names(cities)"
   ]
  },
  {
   "cell_type": "markdown",
   "id": "d7261e0a-b82a-4a72-8f4a-5146315d93fa",
   "metadata": {
    "tags": []
   },
   "source": [
    "## basic arithmetic\n",
    "\n",
    "As you might guess, we will very often want to use **R** to perform calculations on our data. In this section, we'll see how **R** can be used to perform basic arithmetic operations, and we'll discuss the order of operations - that is, the order in which arithmetic operations are performed."
   ]
  },
  {
   "cell_type": "code",
   "execution_count": null,
   "id": "1522a0c7-cb9d-4389-a998-584ca42ee611",
   "metadata": {
    "tags": []
   },
   "outputs": [],
   "source": [
    "x <- 2\n",
    "y <- 3\n",
    "\n",
    "print(sprintf(\"x + y = %s\", x + y)) # print the value of x+y (addition)\n",
    "print(sprintf(\"x - y = %s\", x - y)) # print the value of x-y (subtraction)\n",
    "print(sprintf(\"x * y = %s\", x * y)) # print the value of x*y (multiplication)\n",
    "print(sprintf(\"x / y = %s\", x / y)) # print the value of x/y (division)\n",
    "print(sprintf(\"x ^ y = %s\", x ^ y)) # print the value of x^y (exponentiation)\n",
    "print(sprintf(\"y %% x = %s\", y %% x)) # print the value of x%%y (modular division)"
   ]
  },
  {
   "cell_type": "markdown",
   "id": "9b0a95b1-accb-4811-a591-914effff8a83",
   "metadata": {},
   "source": [
    "**R**, like other programming languages, has an order of operator precedence - that is, the order in which operators within the same statement are executed. They are the same as the order of operations for basic (non-computer) arithmetic:\n",
    "\n",
    "- Parentheses\n",
    "- Exponentials\n",
    "- Multiplication/Division\n",
    "- Addition/Subtraction\n",
    "\n",
    "Before executing the following cell, think about what the output should be. Run the cell - does this result match with your expectation?"
   ]
  },
  {
   "cell_type": "code",
   "execution_count": null,
   "id": "1b34fd90-1b3e-47d6-9409-52792ada3f7c",
   "metadata": {},
   "outputs": [],
   "source": [
    "2 * (3 + 4)^2 - 1"
   ]
  },
  {
   "cell_type": "markdown",
   "id": "d90f2863-0113-444e-b33d-1e48eb3c97ac",
   "metadata": {},
   "source": [
    "## functions\n",
    "\n",
    "So far, we've used a number of base functions, such as `c()`, `print()`, `typeof()`, and `names()`. We can also define our own functions to use. This has many benefits, including:\n",
    "\n",
    "- improved readability of code\n",
    "- eliminating repetitive code\n",
    "- allowing for easier debugging of a program/script\n",
    "- allowing us to re-use code in other programs/scripts\n",
    "\n",
    "In **R**, we define a function using, oddly enough, the `function()` function ([documentation](https://www.rdocumentation.org/packages/base/versions/3.6.2/topics/function)), and assigning the output to our new function:\n",
    "\n",
    "```R\n",
    "\n",
    "new_function <- function(arguments) {\n",
    "    # this is the body of the function - add instructions (code) here\n",
    "    return(something) # if we want to get the output of the function, we have to return it\n",
    "}\n",
    "\n",
    "```\n",
    "\n",
    "The arguments to `function()` are the arguments that we want to pass to our new function - in essence, these are the objects that we will use in the function. After the call to `function()`, we have a block of code enclosed by curly brackets (`{` and `}`) - this is where the instructions (code) that make up the function go. And finally, if we want to get something back from our function, we need to ue the `return()` function. If we don't do this, **R** will run the instructions that make up the function, but it won't give us any output.\n",
    "\n",
    "To help illustrate this, let's define a function for calculating the area of a circle. Mathematically, this is a function of the radius of the circle - equal to the constant pi multiplied by the radius squared. Run the cell below to create the new function, and then test it:"
   ]
  },
  {
   "cell_type": "code",
   "execution_count": null,
   "id": "c2eae90e-9620-4771-a5cc-5d38e217e5cd",
   "metadata": {},
   "outputs": [],
   "source": [
    "circle.area <- function(radius) {\n",
    "    area <- pi * radius ^ 2 # alternatively, radius * radius\n",
    "    return(area) # use return() to get a value back from the function\n",
    "}\n",
    "\n",
    "circle.area(10) # get the area of a circle with radius 10 (should be 314.15 ...)"
   ]
  },
  {
   "cell_type": "markdown",
   "id": "53ba4091-ae15-455a-99d4-f348b127f6c2",
   "metadata": {},
   "source": [
    "In the cell below, I've started two more functions for calculating the surface area and volume of a sphere. For each function, fill in the code that will return the correct result, then confirm that your function output matches the values shown in the comment on each line."
   ]
  },
  {
   "cell_type": "code",
   "execution_count": null,
   "id": "00982178-0956-4a9b-b6d3-d23457fa7b5c",
   "metadata": {},
   "outputs": [],
   "source": [
    "sphere.area <- function(radius) {\n",
    "    # your code goes here!\n",
    "}\n",
    "\n",
    "sphere.volume <- function(radius) {\n",
    "    # your code goes here!\n",
    "}\n",
    "\n",
    "print(sphere.area(10)) # get the surface area of a sphere with radius 10 (should be 1256.637)\n",
    "print(sphere.volume(10)) # get the volume of a sphere with radius 10 (should be 4188.79)"
   ]
  },
  {
   "cell_type": "markdown",
   "id": "9991a149-360b-4540-be00-b9b02b3ed4a1",
   "metadata": {
    "tags": []
   },
   "source": [
    "In the exercises to come, we'll define and use a number of other functions.\n",
    "\n",
    "## control structures\n",
    "\n",
    "Finally, we'll have a look at how we can use **control structures** to control when and how different parts of our code are executed.\n",
    "\n",
    "- **if**, **else** blocks, for executing code depending on different conditions\n",
    "- **while** loops, for repeating code while a certain condition is met\n",
    "- **for** loops, for repeating code a set number of times\n",
    "\n",
    "The basic structure of the blocks is similar to what we saw with functions - first, we have the control statement (**if**, **else**, **while**, etc.), followed by a *condition*, and then the code to execute if that condition is met, enclosed in curly brackets:\n",
    "\n",
    "```R\n",
    "\n",
    "control (condition) {\n",
    "    # the body of the control block\n",
    "}\n",
    "\n",
    "```\n",
    "\n",
    "### comparison operators\n",
    "\n",
    "In order to use these control structures, however, we need a statement that can be evaluated to be `TRUE` or `FALSE` - a **conditional** statement. Most often, we do this using one of six basic **comparison** operators:\n",
    "\n",
    "- `==`: for testing whether the value of two objects are **equal** to each other\n",
    "- `!=`: for testing whether the value of two objects are **not equal** to each other\n",
    "- `<`: for testing whether the value of one object is **less than** the value of another object\n",
    "- `<=`: for testing whether the value of one object is **less than or equal to** the value of another object\n",
    "- `>`: for testing whether the value of one object is **greater than** the value of another object\n",
    "- `>=`: for testing whether the value of one object is **greater than or equal to** the value of another object\n",
    "\n",
    "These are not the only ways that we can write conditional statements, but they are some of the most common, especially as we're starting out.\n",
    "\n",
    "### if ... else statements \n",
    "\n",
    "We'll start with a very basic control structure: an **if** statement. The code inside of the block is excecuted only if the condition is met - if not, the script/program continues without running the code inside of the block:"
   ]
  },
  {
   "cell_type": "code",
   "execution_count": null,
   "id": "36d09e1e-c806-4ca5-b6d7-ce423b5a2e53",
   "metadata": {},
   "outputs": [],
   "source": [
    "x <- 2\n",
    "\n",
    "if (x > 0) {\n",
    "    print(\"x is a positive number\")\n",
    "}"
   ]
  },
  {
   "cell_type": "markdown",
   "id": "ebeb82b5-e8e5-4fa1-8631-0577e2053f6d",
   "metadata": {},
   "source": [
    "In the example above, the code inside of the block (`print(\"x is a positive number\")`) will only be executed if the condition `x > 0` is met - if the value of `x` is less than zero, nothing will happen (change the value of `x` in the cell above to see for yourself!).\n",
    "\n",
    "We may also want to provide alternatives, where two or more blocks of code are executed depending on the evaulation of one or more conditional statements. We'll begin with the most basic, an **if ... else** statement:"
   ]
  },
  {
   "cell_type": "code",
   "execution_count": null,
   "id": "b6016d61-b7b3-4bd1-bf0e-adbc831197d8",
   "metadata": {},
   "outputs": [],
   "source": [
    "x <- -1\n",
    "\n",
    "if (x > 0) {\n",
    "    print(\"x is a positive number\")\n",
    "} else {\n",
    "    print(\"x is less than or equal to 0\")\n",
    "}"
   ]
  },
  {
   "cell_type": "markdown",
   "id": "8d257057-e07e-4e5c-8287-d139c7e42416",
   "metadata": {},
   "source": [
    "In an **if ... else** statement, we start with the **if** statement. Immediately after the **if** statement, we place the **else** statement. The code in this block will only be executed if the **condition** is `FALSE` - if the **condition** is `TRUE`, the code in the **if** statement is executed, and the code in the **else** statement is skipped.\n",
    "\n",
    "We can also evaluate more than one condition, using an **else-if** statement:"
   ]
  },
  {
   "cell_type": "code",
   "execution_count": null,
   "id": "4a062f3a-0e9e-4bfc-a9f2-11f8f9981fa1",
   "metadata": {},
   "outputs": [],
   "source": [
    "x <- 1\n",
    "\n",
    "if (x > 0) {\n",
    "    print(\"x is a positive number\")\n",
    "} else if (x == 0) {\n",
    "    print(\"x is equal to 0\")\n",
    "} else {\n",
    "    print(\"x is a negative number\")\n",
    "}"
   ]
  },
  {
   "cell_type": "markdown",
   "id": "5d823655-cfc4-4578-b099-6f54ea1d1dc6",
   "metadata": {},
   "source": [
    "With an **else-if** statement, we can have as many conditional branches, or cases, as we like. The **else** block at the end is optional, but it has to come at the end.\n",
    "This is because only one of these blocks can be executed - the block corresponding to the *first* condition that returns `TRUE` when evaluated.\n",
    "\n",
    "### while loops\n",
    "\n",
    "A **while** loop is used to repeat a section of code, so long as a given condition is met. At the beginning of each iteration of loop, the interpreter checks the condition - if it is `TRUE`, the code is executed; if `FALSE`, the code inside the loop is skipped. \n",
    "\n",
    "When defining a **while** loop, it's extremely important to remember to provide some way for the condition to evaluate as `FALSE` - if the condition is always `TRUE`, the loop will never stop running (an **infinite** loop). Most often, we can do this by updating the variable that is evaluated in the condition, as seen in the example below:"
   ]
  },
  {
   "cell_type": "code",
   "execution_count": null,
   "id": "d2a5d5c4-968d-46c7-8bae-cd455593af88",
   "metadata": {},
   "outputs": [],
   "source": [
    "n <- 10\n",
    "\n",
    "print(\"Countdown begins. Launch in ...\")\n",
    "while (n > 0) {\n",
    "    print(n)\n",
    "    n <- n - 1 # subtract one from n\n",
    "}\n",
    "print(\"Blastoff!\")"
   ]
  },
  {
   "cell_type": "markdown",
   "id": "a9aab304-d7d3-4691-8541-51f95ed8888d",
   "metadata": {},
   "source": [
    "Here, the value of `n` changes each time the loop is run, so it will (eventually) reach 0, and the loop will terminate.\n",
    "\n",
    "### for loops\n",
    "\n",
    "A **for** loop is used to repeat code for a set number of repetitions - for example, each value in a sequence or a **vector**. At the beginning of the loop, the value of the **iterator** takes on the first value in the sequence; when the program reaches the bottom of the loop, it returns to the top and changes the value of the **iterator** to the next value in the sequence. We can see this using our `campus` **vector** from earlier:"
   ]
  },
  {
   "cell_type": "code",
   "execution_count": null,
   "id": "271ff901-2db5-4a0e-8497-f46639e0f420",
   "metadata": {},
   "outputs": [],
   "source": [
    "campuses <- c('Belfast', 'Coleraine', 'Jordanstown', 'Magee')\n",
    "\n",
    "# loop over all of the values in campuses\n",
    "for (campus in campuses) {\n",
    "    print(campus) # print the campus name\n",
    "}"
   ]
  },
  {
   "cell_type": "markdown",
   "id": "ec53c712-00dc-495c-928c-113cc6b142d6",
   "metadata": {},
   "source": [
    "We can also combine control structures - for example, by including an **if ... else** statement inside of a **for** loop:"
   ]
  },
  {
   "cell_type": "code",
   "execution_count": null,
   "id": "45801776-c803-4cc9-a92c-9e404e733c24",
   "metadata": {},
   "outputs": [],
   "source": [
    "campuses <- c('Belfast', 'Coleraine', 'Jordanstown', 'Magee')\n",
    "\n",
    "# loop over all of the values in campuses\n",
    "for (campus in campuses) {\n",
    "    if (campus == 'Coleraine') {\n",
    "        # if the value of campus equals 'Coleraine', end the loop\n",
    "        break # break \n",
    "    } else {\n",
    "        print(campus) # print the campus name\n",
    "    }\n",
    "}"
   ]
  },
  {
   "cell_type": "markdown",
   "id": "80e55a2b-e7e2-4b64-b0fc-beb68bda9071",
   "metadata": {},
   "source": [
    "The `break` statement statement is used to \"break out\" of a **for** loop - once a condition is met that causes it to be executed, the loop is terminated and the program continues running from there.\n",
    "\n",
    "## recap\n",
    "\n",
    "That's all for this exercise. In this lesson, we have introduced the following concepts:\n",
    "\n",
    "- variables, objects, values, and assignment\n",
    "- data types\n",
    "- data structures:\n",
    "    - vectors\n",
    "    - lists\n",
    "    - data frames\n",
    "- indexing\n",
    "- arithmetic operations\n",
    "- functions\n",
    "- flow control using logic\n",
    "\n",
    "Next, we'll put some of this to work by having a look at a broken program, and see if we can manage to fix it."
   ]
  }
 ],
 "metadata": {
  "kernelspec": {
   "display_name": "R",
   "language": "R",
   "name": "ir"
  },
  "language_info": {
   "codemirror_mode": "r",
   "file_extension": ".r",
   "mimetype": "text/x-r-source",
   "name": "R",
   "pygments_lexer": "r",
   "version": "4.1.3"
  }
 },
 "nbformat": 4,
 "nbformat_minor": 5
}
