{
 "cells": [
  {
   "cell_type": "markdown",
   "id": "e3b59a4b-337c-4c00-8bcc-f22fd274bbfc",
   "metadata": {},
   "source": [
    "# basic statistical analysis with **R**\n",
    "\n",
    "In this exercise, we'll take a look at some basic statistical analysis with **R** - starting with using **R** to calculate descriptive statistics for our datasets, before moving on to look at a few common examples of hypothesis tests.\n",
    " \n",
    "## data\n",
    "\n",
    "The data used in this exercise are the historic meteorological observations from the [Armagh Observatory](https://www.metoffice.gov.uk/weather/learn-about/how-forecasts-are-made/observations/recording-observations-for-over-100-years) (1853-present), the Oxford Observatory (1853-present), the Southampton Observatory (1855-2000), and Stornoway Airport (1873-present), downloaded from the [UK Met Office](https://www.metoffice.gov.uk/research/climate/maps-and-data/historic-station-data) that we used in previous exercises. I have copied the **combined_stations.csv** data into this folder - this is the same file that you created in the process of working through the \"transforming data\" exercise.\n",
    "\n",
    "\n",
    "## loading libraries\n",
    "\n",
    "As before, we load the libraries that we will use in the exercise at the beginning. This time, we will load a single library, [tidyverse](https://www.tidyverse.org/packages/), which is actually a collection of packages, some of which we have seen before:\n",
    "\n",
    "- [readr](https://readr.tidyverse.org/), for reading data from a file;\n",
    "- [ggplot2](https://ggplot2.tidyverse.org/), for plotting data;\n",
    "- [dplyr](https://dplyr.tidyverse.org/), for transforming/manipulating data;\n",
    "- [tidyr](https://tidyr.tidyverse.org/), for tidying \"messy\" data;\n",
    "- [tibble](https://tibble.tidyverse.org/), for working with tabular data;\n",
    "- [forcats](https://forcats.tidyverse.org/), for working with categorical variables;\n",
    "- [stringr](https://stringr.tidyverse.org/), for working with strings (character data);\n",
    "- [lubridate](https://lubridate.tidyverse.org/), for working with date-time data;\n",
    "- and [purrr](https://purrr.tidyverse.org/), for working with functions and vectors.\n",
    "\n",
    "When we load `tidyverse`, we see that all of these packages are loaded at the same time:"
   ]
  },
  {
   "cell_type": "code",
   "execution_count": null,
   "id": "1359aeb0-0c8a-4293-be83-c82549fffc20",
   "metadata": {},
   "outputs": [],
   "source": [
    "library(tidyverse)"
   ]
  },
  {
   "cell_type": "markdown",
   "id": "26a83abc-23cf-46e4-9513-afbfee087e28",
   "metadata": {},
   "source": [
    "next, we'll use `read_csv()` to load the combined station data:"
   ]
  },
  {
   "cell_type": "code",
   "execution_count": null,
   "id": "552a5ede-2462-48fe-a64f-49b3068b8b56",
   "metadata": {},
   "outputs": [],
   "source": [
    "station_data <- read_csv('data/combined_stations.csv')"
   ]
  },
  {
   "cell_type": "markdown",
   "id": "f7c249f1-6c1c-4067-8f8e-1eb409c4c437",
   "metadata": {},
   "source": [
    "## descriptive statistics\n",
    "\n",
    "Before diving into statistical tests, we'll spend a little bit of time expanding on calculating *descriptive* statistics in **R**. We have seen a little bit of this already, using `group_by()` and `summarize()` along with `mean()` to calculate the mean value of `tmax` and `rain` for each station and season.\n",
    "\n",
    "### describing variables using summary()\n",
    "\n",
    "First, we'll have a look at `summary()` ([documentation](https://rdrr.io/r/base/summary.html)), which provides a summary of the results of model fitting functions (such as linear regression or statistical tests, which we'll see more of later).\n",
    "\n",
    "With a table, `summary()` shows a summary of the distribution of each variable in the table (apart from **character** variables):"
   ]
  },
  {
   "cell_type": "code",
   "execution_count": null,
   "id": "a95a7998-fd04-4e20-832e-1c639a26316e",
   "metadata": {},
   "outputs": [],
   "source": [
    "summary(station_data) # show a summary of the variables of the table"
   ]
  },
  {
   "cell_type": "markdown",
   "id": "77e6f4fc-39f7-4279-9666-61f5c9ab8ee9",
   "metadata": {},
   "source": [
    "In the output above, we can see the minimum (**Min.**), 1st quartile (**1st Qu.**), median (**Median**), mean (**Mean**), 3rd quartile (**3rd Qu.**), and maximum (**Max.**) values of each numeric variable, as well as the number of `NA` values. \n",
    "\n",
    "With this, we can quickly see where we might have errors in our data - for example, if we have non-physical or nonsense values in our variables. When first getting started with a dataset, it can be a good idea to check over the dataset using `summary()`.\n",
    "\n",
    "### using summary() to summarize groups\n",
    "\n",
    "What if we wanted to get a summary based on some grouping - for example, for each station? We could use `filter()` to create an object for each value of `station`, then call `summary()` on each of these objects in turn.\n",
    "\n",
    "Not surprisingly, however, there is an easier way, using `split()` ([documentation](https://rdrr.io/r/base/split.html)) and `map()` ([documentation](https://purrr.tidyverse.org/reference/map.html)). First, `split()` divides the table into separate tables based on some grouping:"
   ]
  },
  {
   "cell_type": "code",
   "execution_count": null,
   "id": "567cc816-ec0f-49af-9e8d-41a050b397df",
   "metadata": {
    "scrolled": true
   },
   "outputs": [],
   "source": [
    "station_data |> split(~station) # divide the table into a list of separate tables based on the value of station"
   ]
  },
  {
   "cell_type": "markdown",
   "id": "df378250-bc1a-4890-a049-e6c86b07ebb5",
   "metadata": {},
   "source": [
    "Here, we are using the \"tilde\" (`~`) operator. We have used this once previously, as an input to `facet_wrap()`, but we will introduce it more thoroughly now. In **R**, `~` is used to create a **formula**, a special class that allows us to capture the value of an object, without evaluating them. When we pass them to a function, the formula gets evaluated by the function. \n",
    "\n",
    "We'll see **two-sided formulas** when we look at statistical tests and regression, but `~station` is an example of a **one-sided formula** - `split()` interprets this as \"divide the table `station_data` into separate tables based on the value of the `station` variable\".\n",
    "\n",
    "As you can see in the output above (a **list** object), the result of this is that we have four separate table objects. Finally, we can use `map()` to apply a function, like `summary()`, to each of the elements of the **list**:"
   ]
  },
  {
   "cell_type": "code",
   "execution_count": null,
   "id": "bcc32ee0-3135-4a34-aa7c-d51ade85ff9c",
   "metadata": {},
   "outputs": [],
   "source": [
    "station_data |> \n",
    "    split(~station) |> # divide the table into separate tables based on the value of station\n",
    "    map(summary) # apply the function summary() to each of the outputs of split()"
   ]
  },
  {
   "cell_type": "markdown",
   "id": "f7c88fe3-9ade-4f29-87a7-8fc86255416a",
   "metadata": {},
   "source": [
    "### using built-in functions for descriptive statistics\n",
    "\n",
    "This is helpful, but sometimes we want to calculate other descriptive statistics, or use the values of descriptive statistics in our code. **R** has a number of built-in functions for this - we have already seen `mean()` ([documentation](https://rdrr.io/r/base/mean.html)), for calculating the arithmetic mean of an object:"
   ]
  },
  {
   "cell_type": "code",
   "execution_count": null,
   "id": "3cd11bcb-59be-4a89-8409-5af32f247cb7",
   "metadata": {},
   "outputs": [],
   "source": [
    "mean(station_data$tmax, na.rm = TRUE) # calculate the arithmetic mean of station_data$tmax, ignoring NA values"
   ]
  },
  {
   "cell_type": "markdown",
   "id": "4b12f217-79e6-425f-9e21-5ec9754bf37c",
   "metadata": {},
   "source": [
    "we can calculate the median in the same way, using `median()` ([documentation](https://rdrr.io/r/stats/median.html)):"
   ]
  },
  {
   "cell_type": "code",
   "execution_count": null,
   "id": "27e147da-dd6e-46af-969c-5fb73fce4a65",
   "metadata": {},
   "outputs": [],
   "source": [
    "mean(station_data$rain, na.rm = TRUE)"
   ]
  },
  {
   "cell_type": "markdown",
   "id": "daeb7f88-f13c-4163-b8c0-92a8ba8521a9",
   "metadata": {},
   "source": [
    "To calculate the variance of an object, we use `var()` ([documentation](https://rdrr.io/r/stats/cor.html)):"
   ]
  },
  {
   "cell_type": "code",
   "execution_count": null,
   "id": "56ff8119-ca26-42e1-a858-cb92f33d24a7",
   "metadata": {},
   "outputs": [],
   "source": [
    "var(station_data$tmin, na.rm = TRUE)"
   ]
  },
  {
   "cell_type": "markdown",
   "id": "5a7569bc-58f6-437b-86ad-853996297ed5",
   "metadata": {},
   "source": [
    "and for the standard deviation, `sd()` ([documentation](https://rdrr.io/r/stats/sd.html)):"
   ]
  },
  {
   "cell_type": "code",
   "execution_count": null,
   "id": "92fb7fdb-b7c9-4677-93f5-01f776d922d3",
   "metadata": {},
   "outputs": [],
   "source": [
    "sd(station_data$tmin, na.rm = TRUE)"
   ]
  },
  {
   "cell_type": "markdown",
   "id": "4e586815-9dd7-441a-8815-8d6166190d52",
   "metadata": {},
   "source": [
    "We can also calculate the inter-quartile range (IQR) using `IQR()` ([documentation](https://rdrr.io/r/stats/IQR.html)):"
   ]
  },
  {
   "cell_type": "code",
   "execution_count": null,
   "id": "68f06ec1-c6f1-4afe-b653-be0a1489695f",
   "metadata": {},
   "outputs": [],
   "source": [
    "IQR(station_data$tmax, na.rm = TRUE)"
   ]
  },
  {
   "cell_type": "markdown",
   "id": "bb9cafe9-fa2f-4d8d-8bd6-e96fcc3633dc",
   "metadata": {},
   "source": [
    "and the median absolute deviation (MAD), using `mad()` ([documentation](https://rdrr.io/r/stats/mad.html)):"
   ]
  },
  {
   "cell_type": "code",
   "execution_count": null,
   "id": "04f5836b-1658-44e6-ba2f-3f56ea993cc6",
   "metadata": {},
   "outputs": [],
   "source": [
    "mad(station_data$tmax, na.rm = TRUE)"
   ]
  },
  {
   "cell_type": "markdown",
   "id": "cd5bf1f7-8424-499e-96af-67b45f3da6c1",
   "metadata": {},
   "source": [
    "And, finally, we can calculate quantiles for an object using `quantile()` ([documentation](https://rdrr.io/r/stats/quantile.html)):"
   ]
  },
  {
   "cell_type": "code",
   "execution_count": null,
   "id": "36e7f341-2485-490e-800d-c625a676fa55",
   "metadata": {},
   "outputs": [],
   "source": [
    "quantile(station_data$tmax, 0.99, na.rm = TRUE) # calculate the 99th percentile value of tmax"
   ]
  },
  {
   "cell_type": "markdown",
   "id": "2741254f-c754-491d-8476-efad6e1ab4ad",
   "metadata": {},
   "source": [
    "### using summarize\n",
    "\n",
    "As we have also seen, we can use `summarize()` and `group_by()` to calculate any descriptive statistics or values that we want, based on the groups created by `group_by()`:"
   ]
  },
  {
   "cell_type": "code",
   "execution_count": null,
   "id": "bb2c1145-d766-41c5-8c32-7deb05934fd9",
   "metadata": {
    "scrolled": true
   },
   "outputs": [],
   "source": [
    "station_data |> \n",
    "    group_by(station, season) |>\n",
    "    summarize(\n",
    "        tmax_mean = mean(tmax, na.rm = TRUE), # calculate the mean of tmax\n",
    "        tmax_std = sd(tmax, na.rm = TRUE), # calculate the standard deviation of tmax\n",
    "        tmin_mean = mean(tmin, na.rm = TRUE), # calculate the mean of tmin\n",
    "        tmin_std = sd(tmin, na.rm = TRUE), # calculate the standard deviation of tmin\n",
    "        tmax_med = median(tmax, na.rm = TRUE), # calculate the median of tmax\n",
    "        tmin_med = median(tmin, na.rm = TRUE), # calculate the median of tmin\n",
    "        rain = mean(rain, na.rm = TRUE) # calculate the median of rain\n",
    "    ) -> summary_data # assign the output of summarize to an object\n",
    "\n",
    "summary_data"
   ]
  },
  {
   "cell_type": "markdown",
   "id": "24450572-b56a-4738-bb9e-b05e1247535d",
   "metadata": {},
   "source": [
    "## statistical tests\n",
    "\n",
    "In addition to descriptive statistics, we can use **R** for *inferential statistics* - for example, for hypothesis testing. In the remainder of the exercise, we'll look at a few examples of some common statistical tests and how to perform these in **R**. Please note that these examples are far from exhaustive - if you're looking for a specific hypothesis test, there's a good chance someone has programmed it into **R**, either as part of the default `stats` package ([documentation](https://rdrr.io/r/#stats)), or as an additional package that you can install. You should be able to find what you need with a quick internet search.\n",
    "\n",
    "### independent samples student's *t*-test\n",
    "\n",
    "To run Student's *t*-test, we use `t.test()` ([documentation](https://rdrr.io/r/stats/t.test.html)). One of the arguments to the function is `alternative`, which allows us to select whether the test is `\"two.sided\"` (the default value), `\"less\"`, or `\"greater\"`. We can also use the `paired` argument to choose whether to run a paired *t*-test or not (by default, this is `FALSE`).\n",
    "\n",
    "For a start, let's test the hypothesis that Stornoway Airport gets more rain than Armagh. If we first have a look at a box plot:"
   ]
  },
  {
   "cell_type": "code",
   "execution_count": null,
   "id": "9df6f974-19fa-45b4-8304-6467c284c362",
   "metadata": {},
   "outputs": [],
   "source": [
    "station_data |> \n",
    "    filter(station %in% c('armagh', 'stornoway')) ->  # select only rows where station is armagh or stornoway\n",
    "    selected # store the result in a new object\n",
    "\n",
    "ggplot(data=selected, mapping=aes(x=station, y=rain)) + \n",
    "    geom_boxplot() # create a box plot of monthly rainfall for each station"
   ]
  },
  {
   "cell_type": "markdown",
   "id": "c2f85c23-d30b-453b-bebb-ce0f75a8be77",
   "metadata": {},
   "source": [
    "It does look like Stornoway Airport does get more rain, on average, than Armagh. Using `t.test()`, we can test this hypothesis at the 99% confidence level:"
   ]
  },
  {
   "cell_type": "code",
   "execution_count": null,
   "id": "63e4c838-a9ad-471b-8ee7-1568c1c44b26",
   "metadata": {},
   "outputs": [],
   "source": [
    "armagh.rain <- selected |> \n",
    "    filter(station == 'armagh', !is.na(rain)) |> # select only rows where station == 'armagh'\n",
    "    pull(rain) # select only the rain variable as a vector\n",
    "\n",
    "stornoway.rain <- selected |> \n",
    "    filter(station == 'stornoway', !is.na(rain)) |> # select only rows where station == 'stornoway'\n",
    "    pull(rain) # select only the rain variable as a vector\n",
    "\n",
    "# test whether mean(stornoway.rain) > mean(armagh.rain) at the 99% confidence interval\n",
    "t.test(stornoway.rain, armagh.rain, alternative='greater', conf.level=0.99)"
   ]
  },
  {
   "cell_type": "markdown",
   "id": "9b30528b-23e6-4873-9b0f-d91f718ad843",
   "metadata": {},
   "source": [
    "The output of `t.test()` tells us the data that we have used, the value of the *t* statistic (22.877), the number of degrees of freedom (*df* = 3075), and the *p* value of the test (*p* < 2.2e-16).\n",
    "\n",
    "It also formulates the alternative hypothesis, gives us the 99% confidence interval for the difference in the means, and gives us the estimates of the mean value for each variable. Based on the results of the test, we can reject the null hypothesis, and conclude that Stornoway Airport does get more rain, on average, than Armagh. \n",
    "\n",
    "Now, let's look at an example of a one-sample *t*-test, to see if we can determine whether the mean of a small sample of summer temperatures provides a good estimate of the mean of all summer temperatures measured at Oxford.\n",
    "\n",
    "First, we'll select all of the summer values of `tmax` recorded at Oxford, then calculate the mean value of these temperatures:"
   ]
  },
  {
   "cell_type": "code",
   "execution_count": null,
   "id": "4c376f2f-f0e7-4084-8f8b-c97ff5cdc6f2",
   "metadata": {},
   "outputs": [],
   "source": [
    "oxford_summer_tmax <- station_data |> \n",
    "    filter(station == 'oxford', !is.na(tmax), season == 'summer') |> # select only rows where station == 'armagh'\n",
    "    pull(tmax) # select only the tmax variable as a vector\n",
    "\n",
    "# sample(30) # select a random sample of 50 values\n",
    "\n",
    "mean(oxford_summer_tmax)"
   ]
  },
  {
   "cell_type": "markdown",
   "id": "798599a8-b10c-4d0c-88b4-3043e4fac1c8",
   "metadata": {},
   "source": [
    "So the mean summer temperature measured in Oxford between 1853-2022 is 21.1°C - now, let's take a random sample of 30 temperatures using `sample()`:"
   ]
  },
  {
   "cell_type": "code",
   "execution_count": null,
   "id": "c5e65e5b-62b2-4bee-9f43-6b93d6f33227",
   "metadata": {},
   "outputs": [],
   "source": [
    "# select a random sample of 30 values\n",
    "sample_tmax <- sample(oxford_summer_tmax, 30)"
   ]
  },
  {
   "cell_type": "markdown",
   "id": "d9b8728c-8467-4c68-b908-1fc220f991e0",
   "metadata": {},
   "source": [
    "And finally, we conduct a one-sample *t*-test (two-sided), to see if our sample leads us to conclude whether the mean monthly maximum temperature is not equal to 21.1°C:"
   ]
  },
  {
   "cell_type": "code",
   "execution_count": null,
   "id": "8df6b863-c64d-4727-af70-e150f866d2b4",
   "metadata": {},
   "outputs": [],
   "source": [
    "# test whether average summer monthly maximum temperature is not equal to 21.1\n",
    "t.test(sample_tmax, mu=21.1, alternative='two.sided', conf.level=0.99)"
   ]
  },
  {
   "cell_type": "markdown",
   "id": "525af1e4-62af-4a25-bf8a-b55a17a34bf9",
   "metadata": {},
   "source": [
    "### non-parametric tests\n",
    "\n",
    "We can also conduct non-parametric hypothesis tests using **R**. The example we will look at is the one- or two-sample Wilcoxon tests, using `wilcox.test()` ([documentation](https://rdrr.io/r/stats/wilcox.test.html)). Let's start by looking at the Wilcoxon Rank Sum test, which is analogous to the independent sample *t*-test. For this, we'll use the same data that we did before, again testing whether Stornoway Airport gets more rainfall, on average, than Armagh:"
   ]
  },
  {
   "cell_type": "code",
   "execution_count": null,
   "id": "2d5d7248-8086-42a3-8758-5af09356c63d",
   "metadata": {},
   "outputs": [],
   "source": [
    "# test whether mean(stornoway.rain) > mean(armagh.rain) at the 99% confidence interval\n",
    "wilcox.test(stornoway.rain, armagh.rain, alternative='greater', conf.level=0.99)"
   ]
  },
  {
   "cell_type": "markdown",
   "id": "50ff7fcf-5620-45b4-a1fa-dd8277366e93",
   "metadata": {},
   "source": [
    "### analysis of variance\n",
    "\n",
    "Finally, we'll see how we can set up and interpret an analysis of variance test. In this example, we'll only look at data from Armagh, Oxford, and Stornoway Airport, because the Southampton time series ends in 1999. We'll first calculate the annually-averaged (or annual total) values of `tmax`, `tmin`, and `rain`. Then, we'll add a new variable, `period`, to divide the observations into three different 50-year periods: 1871-1920, 1921-1970, and 1971-2020. Finally, we'll remove any remaining `NA` values, and assign this to a new object, `filtered_periods`:"
   ]
  },
  {
   "cell_type": "code",
   "execution_count": null,
   "id": "3b10aa5a-2af4-4f4f-a005-d02a0dc87e9a",
   "metadata": {},
   "outputs": [],
   "source": [
    "station_data |> \n",
    "    filter(station %in% c('armagh', 'oxford', 'stornoway')) |> # select only armagh, oxford, and stornoway observations\n",
    "    group_by(year) |>\n",
    "    summarize(\n",
    "        tmax = mean(tmax, na.rm = TRUE), # calculate the annually-averaged value of tmax\n",
    "        tmin = mean(tmin, na.rm = TRUE), # calculate the annually-averaged value of tmin\n",
    "        rain = sum(rain, na.rm = TRUE), # calculate the annual total rainfall\n",
    "    ) |> \n",
    "    mutate(\n",
    "        period = case_when( # add a new variable, period, corre\n",
    "            year %in% 1871:1920 ~ '1871-1920',\n",
    "            year %in% 1921:1970 ~ '1921-1970',\n",
    "            year %in% 1971:2020 ~ '1971-2020',\n",
    "        )\n",
    "    ) |> \n",
    "    filter(!is.na(period)) -> filtered_periods # remove NA values and store in a new object"
   ]
  },
  {
   "cell_type": "markdown",
   "id": "5cf6108d-79d2-440c-ac5c-827d45e0c59e",
   "metadata": {},
   "source": [
    "Before running the test, let's make a box plot that shows the distribution of `tmax` values among the three periods:"
   ]
  },
  {
   "cell_type": "code",
   "execution_count": null,
   "id": "310aee3a-0979-4e4e-b989-a6728015feaa",
   "metadata": {},
   "outputs": [],
   "source": [
    "ggplot(data=filtered_periods, mapping=aes(x=period, y=tmax)) + \n",
    "    geom_boxplot()"
   ]
  },
  {
   "cell_type": "markdown",
   "id": "ef9c6158-6e79-4d3b-ab6c-e6be97c57b29",
   "metadata": {},
   "source": [
    "From this, it certainly appears as though there is a difference in the mean value of `tmax` between the three periods. To formally test this, we'll use `aov()` ([documentation](https://rdrr.io/r/stats/aov.html)).\n",
    "\n",
    "The first argument to `aov()` is a **formula**, as we discussed earlier when looking at `summary()`. Here, we're looking at a two-sided formula, which has the form `response variable ~ explanatory variable(s)`. Here, we're investigating whether there is a relationship between value of `period` and the value of `tmax`, which means that the **formula** we use is `tmax ~ period`. We also need to make sure to pass the `filtered_periods` object to the function using the `data` argument, otherwise **R** won't find the variables `tmax` and `period`:"
   ]
  },
  {
   "cell_type": "code",
   "execution_count": null,
   "id": "af63b72a-a092-4082-8cd8-84bccc984eac",
   "metadata": {},
   "outputs": [],
   "source": [
    "tmax_aov <- aov(tmax~period, data=filtered_periods) # run aov on tmax as a function of period\n",
    "\n",
    "tmax_aov # show the output of aov()"
   ]
  },
  {
   "cell_type": "markdown",
   "id": "914608d3-a645-48ed-93b8-837f9c5bcd9f",
   "metadata": {},
   "source": [
    "From this, we see the terms of the model - the sum of squares between groups (11.71181) and within groups (49.15164) in the top row, and the number of degrees of freedom between groups (2) and within groups (147) in the second row.\n",
    "\n",
    "If we want to see the result of the test, we can `summary()` to show the summary of the model:"
   ]
  },
  {
   "cell_type": "code",
   "execution_count": null,
   "id": "e2157eb3-32a6-463c-a365-59498f35689f",
   "metadata": {},
   "outputs": [],
   "source": [
    "summary(tmax_aov) # show the summary of the aov model"
   ]
  },
  {
   "cell_type": "markdown",
   "id": "69fedb0c-4aac-434f-87c6-cf2454dd3b69",
   "metadata": {},
   "source": [
    "Here, we can see the significance value (`Pr(>F)`) is 1.51e-07, which is also given a significance code of `***` - meaning that there is a significant difference between the groups at the 0.001 significance level.\n",
    "\n",
    "This doesn't tell us which pairs of groups are different - for this, we would need to run an additional test. As one example, we could use the `tmax_aov` object, along with `TukeyHSD()` ([documentation](https://rdrr.io/r/stats/TukeyHSD.html)), to compute \"Tukey's Honest Significant Difference\" between each pair of groups:"
   ]
  },
  {
   "cell_type": "code",
   "execution_count": null,
   "id": "5719666b-f086-4c22-9d2b-fd59331edea3",
   "metadata": {},
   "outputs": [],
   "source": [
    "TukeyHSD(tmax_aov) # compute tukey's hsd using our aov model"
   ]
  },
  {
   "cell_type": "markdown",
   "id": "335fbdbe-6182-4a92-90ab-8a976bba34cd",
   "metadata": {},
   "source": [
    "From this, we can see the estimated difference in the means for each pair of groups (`diff`), the lower (`lwr`) and upper (`upr`) values of the 95% confidence interval of the difference, and the adjusted *p*-value for each estimated difference. Using this, we can clude that, at the 99% significance level, there is a significant difference in `tmax` between the periods 1971-2020 and 1871-2020, and between the periods 1971-2020 and 1921-1970."
   ]
  },
  {
   "cell_type": "markdown",
   "id": "a3014330-320c-4757-a4de-2d00a77cfa52",
   "metadata": {},
   "source": [
    "## exercise and next steps\n",
    "\n",
    "That's all for this exercise. To help practice your skills, try at least one of the following:\n",
    "\n",
    "- Set up and run an AOV test to compare annual total rainfall at all four stations, using data from all avaialable years. Are there significant differences between the stations? Use `TukeyHSD()` or `pairwise.t.test()` ([documentation](https://rdrr.io/r/stats/pairwise.t.test.html)) to investigate further.\n",
    "- Using only observations from Armagh, set up and run a test to see if there are significant differences in rainfall based on the season.\n",
    "- Using only observations from Oxford, is there a significant difference between the values of `tmax` in the spring and the autumn at the 99.9% confidence level?\n",
    "- Using only observations from Stornoway Airport, is the value of `tmin` significantly lower in the winter, compared to the autumn?"
   ]
  }
 ],
 "metadata": {
  "kernelspec": {
   "display_name": "R",
   "language": "R",
   "name": "ir"
  },
  "language_info": {
   "codemirror_mode": "r",
   "file_extension": ".r",
   "mimetype": "text/x-r-source",
   "name": "R",
   "pygments_lexer": "r",
   "version": "4.1.3"
  }
 },
 "nbformat": 4,
 "nbformat_minor": 5
}
